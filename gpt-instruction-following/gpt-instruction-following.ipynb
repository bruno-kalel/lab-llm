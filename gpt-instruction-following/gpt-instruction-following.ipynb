{
  "cells": [
    {
      "cell_type": "markdown",
      "metadata": {
        "id": "9hcHVx7HNY2I"
      },
      "source": [
        "# 💬 GPT for Instruction Following\n",
        "This notebook demonstrates the process of training a GPT to follow instructions effectively, using a custom dataset for varied tasks. From data preprocessing to model training and text generation."
      ]
    },
    {
      "cell_type": "markdown",
      "metadata": {
        "id": "Kj9JDKZENY2J"
      },
      "source": [
        "## 📦 Setups and Imports"
      ]
    },
    {
      "cell_type": "code",
      "execution_count": 2,
      "metadata": {
        "id": "yf67Gx7GNY2K"
      },
      "outputs": [],
      "source": [
        "from transformers import AutoTokenizer, AutoModelForCausalLM\n",
        "from transformers import DataCollatorForLanguageModeling\n",
        "from transformers import Trainer, TrainingArguments\n",
        "from datasets import load_dataset"
      ]
    },
    {
      "cell_type": "markdown",
      "metadata": {
        "id": "1GyfLXWeNY2M"
      },
      "source": [
        "## 📊 Data Exploration and Preparation\n",
        "Loading and previewing our dataset, ensuring we understand the kind of data we're working with."
      ]
    },
    {
      "cell_type": "code",
      "execution_count": 186,
      "metadata": {
        "colab": {
          "base_uri": "https://localhost:8080/",
          "height": 537
        },
        "id": "dhVIkLUPNY2M",
        "outputId": "031a0b01-8235-4745-f468-50ed0f3410d8"
      },
      "outputs": [
        {
          "output_type": "execute_result",
          "data": {
            "text/plain": [
              "                                                   output  \\\n",
              "457039  One good way to learn functional programming i...   \n",
              "313763  Incorrect statement: '...the Melbourne Cricket...   \n",
              "408191                         I can't find any mistakes.   \n",
              "251072  1. Before 9th century there is no evidence of ...   \n",
              "476594  Some of the health benefits of eating avocados...   \n",
              "21970   I would reduce my water usage, recycle, compos...   \n",
              "281452  In a future dystopia, a scientist discovers a ...   \n",
              "469529  The best way to approach a job interview is to...   \n",
              "18066   The movie is about inner conflict and the powe...   \n",
              "441262  A transformer model and reinforcement learning...   \n",
              "\n",
              "                                                    input  \\\n",
              "457039                                                      \n",
              "313763  The city of Sydney, located on the east coast ...   \n",
              "408191                                                      \n",
              "251072  Wind-powered machines may have been known earl...   \n",
              "476594                                                      \n",
              "21970                                                       \n",
              "281452                                                      \n",
              "469529                                                      \n",
              "18066   Synopsis: A passionate photographer is conflic...   \n",
              "441262                                                      \n",
              "\n",
              "                                              instruction  \n",
              "457039  What would be a good way to go about learning ...  \n",
              "313763  Identify the incorrect statement in the given ...  \n",
              "408191  Find all the mistakes in this paragraph. if yo...  \n",
              "251072  List me down some key aspects about windmills ...  \n",
              "476594  What are some of the health benefits of eating...  \n",
              "21970   What activities would you do to help the envir...  \n",
              "281452  Generate a creative writing prompt for a scien...  \n",
              "469529  What is the best way to approach a job interview.  \n",
              "18066   Describe in a few lines the basic idea behind ...  \n",
              "441262  What is the difference between a transformer m...  "
            ],
            "text/html": [
              "\n",
              "  <div id=\"df-af8717eb-118f-4d0d-a6ec-ffebd53ea6b6\" class=\"colab-df-container\">\n",
              "    <div>\n",
              "<style scoped>\n",
              "    .dataframe tbody tr th:only-of-type {\n",
              "        vertical-align: middle;\n",
              "    }\n",
              "\n",
              "    .dataframe tbody tr th {\n",
              "        vertical-align: top;\n",
              "    }\n",
              "\n",
              "    .dataframe thead th {\n",
              "        text-align: right;\n",
              "    }\n",
              "</style>\n",
              "<table border=\"1\" class=\"dataframe\">\n",
              "  <thead>\n",
              "    <tr style=\"text-align: right;\">\n",
              "      <th></th>\n",
              "      <th>output</th>\n",
              "      <th>input</th>\n",
              "      <th>instruction</th>\n",
              "    </tr>\n",
              "  </thead>\n",
              "  <tbody>\n",
              "    <tr>\n",
              "      <th>457039</th>\n",
              "      <td>One good way to learn functional programming i...</td>\n",
              "      <td></td>\n",
              "      <td>What would be a good way to go about learning ...</td>\n",
              "    </tr>\n",
              "    <tr>\n",
              "      <th>313763</th>\n",
              "      <td>Incorrect statement: '...the Melbourne Cricket...</td>\n",
              "      <td>The city of Sydney, located on the east coast ...</td>\n",
              "      <td>Identify the incorrect statement in the given ...</td>\n",
              "    </tr>\n",
              "    <tr>\n",
              "      <th>408191</th>\n",
              "      <td>I can't find any mistakes.</td>\n",
              "      <td></td>\n",
              "      <td>Find all the mistakes in this paragraph. if yo...</td>\n",
              "    </tr>\n",
              "    <tr>\n",
              "      <th>251072</th>\n",
              "      <td>1. Before 9th century there is no evidence of ...</td>\n",
              "      <td>Wind-powered machines may have been known earl...</td>\n",
              "      <td>List me down some key aspects about windmills ...</td>\n",
              "    </tr>\n",
              "    <tr>\n",
              "      <th>476594</th>\n",
              "      <td>Some of the health benefits of eating avocados...</td>\n",
              "      <td></td>\n",
              "      <td>What are some of the health benefits of eating...</td>\n",
              "    </tr>\n",
              "    <tr>\n",
              "      <th>21970</th>\n",
              "      <td>I would reduce my water usage, recycle, compos...</td>\n",
              "      <td></td>\n",
              "      <td>What activities would you do to help the envir...</td>\n",
              "    </tr>\n",
              "    <tr>\n",
              "      <th>281452</th>\n",
              "      <td>In a future dystopia, a scientist discovers a ...</td>\n",
              "      <td></td>\n",
              "      <td>Generate a creative writing prompt for a scien...</td>\n",
              "    </tr>\n",
              "    <tr>\n",
              "      <th>469529</th>\n",
              "      <td>The best way to approach a job interview is to...</td>\n",
              "      <td></td>\n",
              "      <td>What is the best way to approach a job interview.</td>\n",
              "    </tr>\n",
              "    <tr>\n",
              "      <th>18066</th>\n",
              "      <td>The movie is about inner conflict and the powe...</td>\n",
              "      <td>Synopsis: A passionate photographer is conflic...</td>\n",
              "      <td>Describe in a few lines the basic idea behind ...</td>\n",
              "    </tr>\n",
              "    <tr>\n",
              "      <th>441262</th>\n",
              "      <td>A transformer model and reinforcement learning...</td>\n",
              "      <td></td>\n",
              "      <td>What is the difference between a transformer m...</td>\n",
              "    </tr>\n",
              "  </tbody>\n",
              "</table>\n",
              "</div>\n",
              "    <div class=\"colab-df-buttons\">\n",
              "\n",
              "  <div class=\"colab-df-container\">\n",
              "    <button class=\"colab-df-convert\" onclick=\"convertToInteractive('df-af8717eb-118f-4d0d-a6ec-ffebd53ea6b6')\"\n",
              "            title=\"Convert this dataframe to an interactive table.\"\n",
              "            style=\"display:none;\">\n",
              "\n",
              "  <svg xmlns=\"http://www.w3.org/2000/svg\" height=\"24px\" viewBox=\"0 -960 960 960\">\n",
              "    <path d=\"M120-120v-720h720v720H120Zm60-500h600v-160H180v160Zm220 220h160v-160H400v160Zm0 220h160v-160H400v160ZM180-400h160v-160H180v160Zm440 0h160v-160H620v160ZM180-180h160v-160H180v160Zm440 0h160v-160H620v160Z\"/>\n",
              "  </svg>\n",
              "    </button>\n",
              "\n",
              "  <style>\n",
              "    .colab-df-container {\n",
              "      display:flex;\n",
              "      gap: 12px;\n",
              "    }\n",
              "\n",
              "    .colab-df-convert {\n",
              "      background-color: #E8F0FE;\n",
              "      border: none;\n",
              "      border-radius: 50%;\n",
              "      cursor: pointer;\n",
              "      display: none;\n",
              "      fill: #1967D2;\n",
              "      height: 32px;\n",
              "      padding: 0 0 0 0;\n",
              "      width: 32px;\n",
              "    }\n",
              "\n",
              "    .colab-df-convert:hover {\n",
              "      background-color: #E2EBFA;\n",
              "      box-shadow: 0px 1px 2px rgba(60, 64, 67, 0.3), 0px 1px 3px 1px rgba(60, 64, 67, 0.15);\n",
              "      fill: #174EA6;\n",
              "    }\n",
              "\n",
              "    .colab-df-buttons div {\n",
              "      margin-bottom: 4px;\n",
              "    }\n",
              "\n",
              "    [theme=dark] .colab-df-convert {\n",
              "      background-color: #3B4455;\n",
              "      fill: #D2E3FC;\n",
              "    }\n",
              "\n",
              "    [theme=dark] .colab-df-convert:hover {\n",
              "      background-color: #434B5C;\n",
              "      box-shadow: 0px 1px 3px 1px rgba(0, 0, 0, 0.15);\n",
              "      filter: drop-shadow(0px 1px 2px rgba(0, 0, 0, 0.3));\n",
              "      fill: #FFFFFF;\n",
              "    }\n",
              "  </style>\n",
              "\n",
              "    <script>\n",
              "      const buttonEl =\n",
              "        document.querySelector('#df-af8717eb-118f-4d0d-a6ec-ffebd53ea6b6 button.colab-df-convert');\n",
              "      buttonEl.style.display =\n",
              "        google.colab.kernel.accessAllowed ? 'block' : 'none';\n",
              "\n",
              "      async function convertToInteractive(key) {\n",
              "        const element = document.querySelector('#df-af8717eb-118f-4d0d-a6ec-ffebd53ea6b6');\n",
              "        const dataTable =\n",
              "          await google.colab.kernel.invokeFunction('convertToInteractive',\n",
              "                                                    [key], {});\n",
              "        if (!dataTable) return;\n",
              "\n",
              "        const docLinkHtml = 'Like what you see? Visit the ' +\n",
              "          '<a target=\"_blank\" href=https://colab.research.google.com/notebooks/data_table.ipynb>data table notebook</a>'\n",
              "          + ' to learn more about interactive tables.';\n",
              "        element.innerHTML = '';\n",
              "        dataTable['output_type'] = 'display_data';\n",
              "        await google.colab.output.renderOutput(dataTable, element);\n",
              "        const docLink = document.createElement('div');\n",
              "        docLink.innerHTML = docLinkHtml;\n",
              "        element.appendChild(docLink);\n",
              "      }\n",
              "    </script>\n",
              "  </div>\n",
              "\n",
              "\n",
              "<div id=\"df-a169f853-e121-4c3c-8b1a-f88a484d4b30\">\n",
              "  <button class=\"colab-df-quickchart\" onclick=\"quickchart('df-a169f853-e121-4c3c-8b1a-f88a484d4b30')\"\n",
              "            title=\"Suggest charts\"\n",
              "            style=\"display:none;\">\n",
              "\n",
              "<svg xmlns=\"http://www.w3.org/2000/svg\" height=\"24px\"viewBox=\"0 0 24 24\"\n",
              "     width=\"24px\">\n",
              "    <g>\n",
              "        <path d=\"M19 3H5c-1.1 0-2 .9-2 2v14c0 1.1.9 2 2 2h14c1.1 0 2-.9 2-2V5c0-1.1-.9-2-2-2zM9 17H7v-7h2v7zm4 0h-2V7h2v10zm4 0h-2v-4h2v4z\"/>\n",
              "    </g>\n",
              "</svg>\n",
              "  </button>\n",
              "\n",
              "<style>\n",
              "  .colab-df-quickchart {\n",
              "      --bg-color: #E8F0FE;\n",
              "      --fill-color: #1967D2;\n",
              "      --hover-bg-color: #E2EBFA;\n",
              "      --hover-fill-color: #174EA6;\n",
              "      --disabled-fill-color: #AAA;\n",
              "      --disabled-bg-color: #DDD;\n",
              "  }\n",
              "\n",
              "  [theme=dark] .colab-df-quickchart {\n",
              "      --bg-color: #3B4455;\n",
              "      --fill-color: #D2E3FC;\n",
              "      --hover-bg-color: #434B5C;\n",
              "      --hover-fill-color: #FFFFFF;\n",
              "      --disabled-bg-color: #3B4455;\n",
              "      --disabled-fill-color: #666;\n",
              "  }\n",
              "\n",
              "  .colab-df-quickchart {\n",
              "    background-color: var(--bg-color);\n",
              "    border: none;\n",
              "    border-radius: 50%;\n",
              "    cursor: pointer;\n",
              "    display: none;\n",
              "    fill: var(--fill-color);\n",
              "    height: 32px;\n",
              "    padding: 0;\n",
              "    width: 32px;\n",
              "  }\n",
              "\n",
              "  .colab-df-quickchart:hover {\n",
              "    background-color: var(--hover-bg-color);\n",
              "    box-shadow: 0 1px 2px rgba(60, 64, 67, 0.3), 0 1px 3px 1px rgba(60, 64, 67, 0.15);\n",
              "    fill: var(--button-hover-fill-color);\n",
              "  }\n",
              "\n",
              "  .colab-df-quickchart-complete:disabled,\n",
              "  .colab-df-quickchart-complete:disabled:hover {\n",
              "    background-color: var(--disabled-bg-color);\n",
              "    fill: var(--disabled-fill-color);\n",
              "    box-shadow: none;\n",
              "  }\n",
              "\n",
              "  .colab-df-spinner {\n",
              "    border: 2px solid var(--fill-color);\n",
              "    border-color: transparent;\n",
              "    border-bottom-color: var(--fill-color);\n",
              "    animation:\n",
              "      spin 1s steps(1) infinite;\n",
              "  }\n",
              "\n",
              "  @keyframes spin {\n",
              "    0% {\n",
              "      border-color: transparent;\n",
              "      border-bottom-color: var(--fill-color);\n",
              "      border-left-color: var(--fill-color);\n",
              "    }\n",
              "    20% {\n",
              "      border-color: transparent;\n",
              "      border-left-color: var(--fill-color);\n",
              "      border-top-color: var(--fill-color);\n",
              "    }\n",
              "    30% {\n",
              "      border-color: transparent;\n",
              "      border-left-color: var(--fill-color);\n",
              "      border-top-color: var(--fill-color);\n",
              "      border-right-color: var(--fill-color);\n",
              "    }\n",
              "    40% {\n",
              "      border-color: transparent;\n",
              "      border-right-color: var(--fill-color);\n",
              "      border-top-color: var(--fill-color);\n",
              "    }\n",
              "    60% {\n",
              "      border-color: transparent;\n",
              "      border-right-color: var(--fill-color);\n",
              "    }\n",
              "    80% {\n",
              "      border-color: transparent;\n",
              "      border-right-color: var(--fill-color);\n",
              "      border-bottom-color: var(--fill-color);\n",
              "    }\n",
              "    90% {\n",
              "      border-color: transparent;\n",
              "      border-bottom-color: var(--fill-color);\n",
              "    }\n",
              "  }\n",
              "</style>\n",
              "\n",
              "  <script>\n",
              "    async function quickchart(key) {\n",
              "      const quickchartButtonEl =\n",
              "        document.querySelector('#' + key + ' button');\n",
              "      quickchartButtonEl.disabled = true;  // To prevent multiple clicks.\n",
              "      quickchartButtonEl.classList.add('colab-df-spinner');\n",
              "      try {\n",
              "        const charts = await google.colab.kernel.invokeFunction(\n",
              "            'suggestCharts', [key], {});\n",
              "      } catch (error) {\n",
              "        console.error('Error during call to suggestCharts:', error);\n",
              "      }\n",
              "      quickchartButtonEl.classList.remove('colab-df-spinner');\n",
              "      quickchartButtonEl.classList.add('colab-df-quickchart-complete');\n",
              "    }\n",
              "    (() => {\n",
              "      let quickchartButtonEl =\n",
              "        document.querySelector('#df-a169f853-e121-4c3c-8b1a-f88a484d4b30 button');\n",
              "      quickchartButtonEl.style.display =\n",
              "        google.colab.kernel.accessAllowed ? 'block' : 'none';\n",
              "    })();\n",
              "  </script>\n",
              "</div>\n",
              "\n",
              "    </div>\n",
              "  </div>\n"
            ],
            "application/vnd.google.colaboratory.intrinsic+json": {
              "type": "dataframe",
              "summary": "{\n  \"name\": \"dataset\",\n  \"rows\": 10,\n  \"fields\": [\n    {\n      \"column\": \"output\",\n      \"properties\": {\n        \"dtype\": \"string\",\n        \"num_unique_values\": 10,\n        \"samples\": [\n          \"The movie is about inner conflict and the power of friendship. It follows the story of the passionate photographer, whose best friend starts to date the girl he also has feelings for. This creates a difficult dilemma which he has to face, struggling to choose between his own feelings and his loyalty to his best friend. In the end, it's a story of the strength of the friendship that will always prevail.\",\n          \"Incorrect statement: '...the Melbourne Cricket Ground.' Corrected version: '...the Sydney Harbour Bridge.'\",\n          \"I would reduce my water usage, recycle, compost, switch to energy efficient appliances, and carpool with friends.\"\n        ],\n        \"semantic_type\": \"\",\n        \"description\": \"\"\n      }\n    },\n    {\n      \"column\": \"input\",\n      \"properties\": {\n        \"dtype\": \"category\",\n        \"num_unique_values\": 4,\n        \"samples\": [\n          \"The city of Sydney, located on the east coast of Australia, has a population of over 5 million people. It's known for its architecture, such as the Sydney Opera House and the Melbourne Cricket Ground. Some of the city's most notable beaches include Bondi and Manly.\",\n          \"Synopsis: A passionate photographer is conflicted when his best friend starts a relationship with a girl of whom he is also fond.\",\n          \"\"\n        ],\n        \"semantic_type\": \"\",\n        \"description\": \"\"\n      }\n    },\n    {\n      \"column\": \"instruction\",\n      \"properties\": {\n        \"dtype\": \"string\",\n        \"num_unique_values\": 10,\n        \"samples\": [\n          \"Describe in a few lines the basic idea behind a movie based on the synopsis.\",\n          \"Identify the incorrect statement in the given paragraph and provide a corrected version.\",\n          \"What activities would you do to help the environment?\"\n        ],\n        \"semantic_type\": \"\",\n        \"description\": \"\"\n      }\n    }\n  ]\n}"
            }
          },
          "metadata": {},
          "execution_count": 186
        }
      ],
      "source": [
        "dataset = load_dataset('hakurei/open-instruct-v1',\n",
        "                       split='train')\n",
        "dataset.to_pandas().sample(10)"
      ]
    },
    {
      "cell_type": "markdown",
      "metadata": {
        "id": "GOTA3Ha3NY2N"
      },
      "source": [
        "## 🔀 Shuffling and Splitting the Dataset\n",
        "Shuffling the dataset and splitting it into training and test sets to ensure robust model training and evaluation."
      ]
    },
    {
      "cell_type": "code",
      "execution_count": 4,
      "metadata": {
        "id": "XWr2xk0CNY2N"
      },
      "outputs": [],
      "source": [
        "def preprocess(example):\n",
        "  example['prompt'] = f\"{example['instruction']} {example['input']} {example['output']}\"\n",
        "  return example"
      ]
    },
    {
      "cell_type": "code",
      "execution_count": null,
      "metadata": {
        "id": "_HHOGu9FNY2O"
      },
      "outputs": [],
      "source": [
        "dataset = dataset.map(preprocess,\n",
        "                      remove_columns=['instruction', 'input', 'output'])\n",
        "dataset = dataset.shuffle(42)\n",
        "dataset = dataset.select(range(1000))\n",
        "dataset = dataset.train_test_split(test_size=0.1, seed=42)"
      ]
    },
    {
      "cell_type": "code",
      "execution_count": 6,
      "metadata": {
        "id": "H1-wPNg5NY2P"
      },
      "outputs": [],
      "source": [
        "train_dataset = dataset['train']\n",
        "test_dataset = dataset['test']"
      ]
    },
    {
      "cell_type": "markdown",
      "metadata": {
        "id": "YauTkl0hNY2Q"
      },
      "source": [
        "## 🚀 Model Initialization and Tokenization\n",
        "Setting up the tokenizer and the model, ensuring that our tokens align with the model's expected format."
      ]
    },
    {
      "cell_type": "code",
      "execution_count": 7,
      "metadata": {
        "id": "ubsLq8_iNY2Q"
      },
      "outputs": [],
      "source": [
        "MODEL_NAME = 'microsoft/DialoGPT-medium'"
      ]
    },
    {
      "cell_type": "code",
      "execution_count": null,
      "metadata": {
        "id": "7gheGB3DNY2Q"
      },
      "outputs": [],
      "source": [
        "tokenizer = AutoTokenizer.from_pretrained(MODEL_NAME)\n",
        "tokenizer.pad_token = tokenizer.eos_token"
      ]
    },
    {
      "cell_type": "code",
      "execution_count": 9,
      "metadata": {
        "id": "xT-rW-QaNY2Q"
      },
      "outputs": [],
      "source": [
        "def tokenize_dataset(dataset):\n",
        "  tokenized_dataset = dataset.map(lambda example: tokenizer(example['prompt'],\n",
        "                                                            truncation=True,\n",
        "                                                            max_length=128),\n",
        "                                  batched=True,\n",
        "                                  remove_columns=['prompt'])\n",
        "  return tokenized_dataset"
      ]
    },
    {
      "cell_type": "code",
      "execution_count": null,
      "metadata": {
        "id": "iE_Sb7hINY2R"
      },
      "outputs": [],
      "source": [
        "train_dataset = tokenize_dataset(train_dataset)\n",
        "test_dataset = tokenize_dataset(test_dataset)"
      ]
    },
    {
      "cell_type": "code",
      "execution_count": null,
      "metadata": {
        "id": "5i9J62k_NY2R"
      },
      "outputs": [],
      "source": [
        "model = AutoModelForCausalLM.from_pretrained(MODEL_NAME)"
      ]
    },
    {
      "cell_type": "markdown",
      "metadata": {
        "id": "IL5jlClCNY2R"
      },
      "source": [
        "## 🎯 Training the GPT Model\n",
        "Configuring the training parameters and initiating the training process using our prepared datasets."
      ]
    },
    {
      "cell_type": "code",
      "execution_count": 12,
      "metadata": {
        "id": "Tbf_N_t1NY2R"
      },
      "outputs": [],
      "source": [
        "data_collator = DataCollatorForLanguageModeling(tokenizer=tokenizer,\n",
        "                                                mlm=False)"
      ]
    },
    {
      "cell_type": "code",
      "execution_count": 13,
      "metadata": {
        "id": "cbpHPVbhNY2R"
      },
      "outputs": [],
      "source": [
        "training_args = TrainingArguments(output_dir='models/diablo_gpt',\n",
        "                                  num_train_epochs=1,\n",
        "                                  per_device_train_batch_size=4,\n",
        "                                  per_device_eval_batch_size=4)"
      ]
    },
    {
      "cell_type": "code",
      "execution_count": 14,
      "metadata": {
        "id": "LTjy0BEQNY2R"
      },
      "outputs": [],
      "source": [
        "trainer = Trainer(model=model,\n",
        "                  args=training_args,\n",
        "                  train_dataset=train_dataset,\n",
        "                  eval_dataset=test_dataset,\n",
        "                  data_collator=data_collator)"
      ]
    },
    {
      "cell_type": "code",
      "execution_count": 15,
      "metadata": {
        "colab": {
          "base_uri": "https://localhost:8080/",
          "height": 129
        },
        "id": "cZrd0AmINY2R",
        "outputId": "9b1a137c-c36c-4d95-b4e8-852da22870e8"
      },
      "outputs": [
        {
          "output_type": "display_data",
          "data": {
            "text/plain": [
              "<IPython.core.display.HTML object>"
            ],
            "text/html": [
              "\n",
              "    <div>\n",
              "      \n",
              "      <progress value='225' max='225' style='width:300px; height:20px; vertical-align: middle;'></progress>\n",
              "      [225/225 1:32:17, Epoch 1/1]\n",
              "    </div>\n",
              "    <table border=\"1\" class=\"dataframe\">\n",
              "  <thead>\n",
              " <tr style=\"text-align: left;\">\n",
              "      <th>Step</th>\n",
              "      <th>Training Loss</th>\n",
              "    </tr>\n",
              "  </thead>\n",
              "  <tbody>\n",
              "  </tbody>\n",
              "</table><p>"
            ]
          },
          "metadata": {}
        },
        {
          "output_type": "execute_result",
          "data": {
            "text/plain": [
              "TrainOutput(global_step=225, training_loss=3.36793701171875, metrics={'train_runtime': 5567.1191, 'train_samples_per_second': 0.162, 'train_steps_per_second': 0.04, 'total_flos': 193416430583808.0, 'train_loss': 3.36793701171875, 'epoch': 1.0})"
            ]
          },
          "metadata": {},
          "execution_count": 15
        }
      ],
      "source": [
        "trainer.train()"
      ]
    },
    {
      "cell_type": "markdown",
      "source": [
        "## 📝 Text Generation and Application\n",
        "Finally, demonstrating the capability of our trained model by generating responses to various instructions."
      ],
      "metadata": {
        "id": "RST8JCXMXFZg"
      }
    },
    {
      "cell_type": "code",
      "source": [
        "def generate_text(prompt):\n",
        "  inputs = tokenizer.encode(prompt,\n",
        "                            return_tensors='pt')\n",
        "  outputs = model.generate(inputs,\n",
        "                           max_length=64,\n",
        "                           pad_token_id=tokenizer.eos_token_id)\n",
        "  generated = tokenizer.decode(outputs[0],\n",
        "                               skip_special_tokens=True)\n",
        "\n",
        "  return generated[:generated.rfind('.') + 1]"
      ],
      "metadata": {
        "id": "tzIeh3wKXK3r"
      },
      "execution_count": 201,
      "outputs": []
    },
    {
      "cell_type": "code",
      "source": [
        "generate_text('Tell me a fun fact about the world')"
      ],
      "metadata": {
        "colab": {
          "base_uri": "https://localhost:8080/",
          "height": 71
        },
        "id": "DMM2W8N0rKWO",
        "outputId": "c8ac649b-e415-463b-8ffb-05dada125506"
      },
      "execution_count": 219,
      "outputs": [
        {
          "output_type": "execute_result",
          "data": {
            "text/plain": [
              "'Tell me a fun fact about the world.  The world is full of surprises. The world is full of surprises. The world is full of surprises. The world is full of surprises. The world is full of surprises. The world is full of surprises. The world is full of surprises.'"
            ],
            "application/vnd.google.colaboratory.intrinsic+json": {
              "type": "string"
            }
          },
          "metadata": {},
          "execution_count": 219
        }
      ]
    },
    {
      "cell_type": "code",
      "source": [
        "generate_text('Tell me a fun fact about the world')"
      ],
      "metadata": {
        "colab": {
          "base_uri": "https://localhost:8080/",
          "height": 71
        },
        "id": "tmlWcZBvrKg_",
        "outputId": "bceed2fa-303b-4828-fe41-9cf6d977a7e3"
      },
      "execution_count": 220,
      "outputs": [
        {
          "output_type": "execute_result",
          "data": {
            "text/plain": [
              "'Tell me a fun fact about the world.  The world is a vast and varied place. The world is a vast and varied place. The world is a vast and varied place. The world is a vast and varied place. The world is a vast and varied place. The world is a vast and varied place.'"
            ],
            "application/vnd.google.colaboratory.intrinsic+json": {
              "type": "string"
            }
          },
          "metadata": {},
          "execution_count": 220
        }
      ]
    },
    {
      "cell_type": "code",
      "source": [
        "generate_text('Tell me a fun fact about the world')"
      ],
      "metadata": {
        "colab": {
          "base_uri": "https://localhost:8080/",
          "height": 71
        },
        "id": "gXCzODMzrKqA",
        "outputId": "b2348608-e555-4132-f5d0-9663f8cdf5a9"
      },
      "execution_count": 221,
      "outputs": [
        {
          "output_type": "execute_result",
          "data": {
            "text/plain": [
              "'Tell me a fun fact about the world.  The world is a vast and varied place. It is also a beautiful place. It is also a dangerous place. It is also a beautiful place. It is also a dangerous place. It is also a beautiful place. It is also a dangerous place.'"
            ],
            "application/vnd.google.colaboratory.intrinsic+json": {
              "type": "string"
            }
          },
          "metadata": {},
          "execution_count": 221
        }
      ]
    },
    {
      "cell_type": "code",
      "source": [
        "generate_text('Tell me a fun fact about the world')"
      ],
      "metadata": {
        "colab": {
          "base_uri": "https://localhost:8080/",
          "height": 71
        },
        "id": "dMVcd6B-rKyb",
        "outputId": "c791065a-a4a0-4149-deef-095262035ef4"
      },
      "execution_count": 222,
      "outputs": [
        {
          "output_type": "execute_result",
          "data": {
            "text/plain": [
              "'Tell me a fun fact about the world.  The world is a big place. It has many diverse cultures. The world is also a big place. It has many diverse cultures. It has many diverse cultures. It has many diverse cultures. It has many diverse cultures. It has many diverse cultures.'"
            ],
            "application/vnd.google.colaboratory.intrinsic+json": {
              "type": "string"
            }
          },
          "metadata": {},
          "execution_count": 222
        }
      ]
    },
    {
      "cell_type": "code",
      "source": [
        "generate_text('Tell me a fun fact about the world')"
      ],
      "metadata": {
        "colab": {
          "base_uri": "https://localhost:8080/",
          "height": 71
        },
        "id": "sDdzbsjKrLEJ",
        "outputId": "bee94b0c-cda6-455b-9e4c-1cc9542cd31a"
      },
      "execution_count": 224,
      "outputs": [
        {
          "output_type": "execute_result",
          "data": {
            "text/plain": [
              "'Tell me a fun fact about the world.  The world is full of people who love to play video games. The world is full of people who love to play video games. The world is full of people who love to play video games. The world is full of people who love to play video games.'"
            ],
            "application/vnd.google.colaboratory.intrinsic+json": {
              "type": "string"
            }
          },
          "metadata": {},
          "execution_count": 224
        }
      ]
    }
  ],
  "metadata": {
    "kernelspec": {
      "display_name": "venv",
      "language": "python",
      "name": "python3"
    },
    "language_info": {
      "codemirror_mode": {
        "name": "ipython",
        "version": 3
      },
      "file_extension": ".py",
      "mimetype": "text/x-python",
      "name": "python",
      "nbconvert_exporter": "python",
      "pygments_lexer": "ipython3",
      "version": "3.9.6"
    },
    "colab": {
      "provenance": []
    }
  },
  "nbformat": 4,
  "nbformat_minor": 0
}