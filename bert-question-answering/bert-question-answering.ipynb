{
 "cells": [
  {
   "cell_type": "markdown",
   "metadata": {},
   "source": [
    "# 📔 BERT for Question Answering\n",
    "\n",
    "This notebook explores using the BERT (Bidirectional Encoder Representations from Transformers) model for answering questions posed against a context."
   ]
  },
  {
   "cell_type": "markdown",
   "metadata": {},
   "source": [
    "## 📦 Setup and Imports"
   ]
  },
  {
   "cell_type": "code",
   "execution_count": null,
   "metadata": {},
   "outputs": [],
   "source": [
    "import torch\n",
    "from transformers import BertForQuestionAnswering, BertTokenizerFast\n",
    "from scipy.special import softmax\n",
    "import plotly.express as px\n",
    "import pandas as pd\n",
    "import numpy as np\n",
    "import matplotlib.pyplot as plt"
   ]
  },
  {
   "cell_type": "markdown",
   "metadata": {},
   "source": [
    "## 👨‍🍳 Data Preparation\n",
    "\n",
    "Defining the context and question that will be used to demonstrate the BERT model's question-answering capabilities."
   ]
  },
  {
   "cell_type": "code",
   "execution_count": 2,
   "metadata": {},
   "outputs": [],
   "source": [
    "context = '''Mars is the fourth planet from the Sun. The surface of Mars is orange-red because it is covered in iron oxide dust, giving it the nickname \"the Red Planet\". Mars is among the brightest objects in Earth's sky, and its high-contrast albedo features have made it a common subject for telescope viewing. It is classified as a terrestrial planet and is the second smallest of the Solar System's planets with a diameter of 6,779 km (4,212 mi). In terms of orbital motion, a Martian solar day (sol) is equal to 24.5 hours, and a Martian solar year is equal to 1.88 Earth years (687 Earth days). Mars has two natural satellites that are small and irregular in shape: Phobos and Deimos.'''"
   ]
  },
  {
   "cell_type": "code",
   "execution_count": 3,
   "metadata": {},
   "outputs": [],
   "source": [
    "question = '''Why is Mars's surface orange-red?'''"
   ]
  },
  {
   "cell_type": "markdown",
   "metadata": {},
   "source": [
    "## 🤖 Model Setup\n",
    "\n",
    "Loading the BERT model and tokenizer designed for question answering tasks."
   ]
  },
  {
   "cell_type": "code",
   "execution_count": 4,
   "metadata": {},
   "outputs": [],
   "source": [
    "model_name = \"deepset/bert-base-cased-squad2\""
   ]
  },
  {
   "cell_type": "code",
   "execution_count": 5,
   "metadata": {},
   "outputs": [
    {
     "name": "stderr",
     "output_type": "stream",
     "text": [
      "Some weights of the model checkpoint at deepset/bert-base-cased-squad2 were not used when initializing BertForQuestionAnswering: ['bert.pooler.dense.bias', 'bert.pooler.dense.weight']\n",
      "- This IS expected if you are initializing BertForQuestionAnswering from the checkpoint of a model trained on another task or with another architecture (e.g. initializing a BertForSequenceClassification model from a BertForPreTraining model).\n",
      "- This IS NOT expected if you are initializing BertForQuestionAnswering from the checkpoint of a model that you expect to be exactly identical (initializing a BertForSequenceClassification model from a BertForSequenceClassification model).\n"
     ]
    }
   ],
   "source": [
    "tokenizer = BertTokenizerFast.from_pretrained(model_name)\n",
    "model = BertForQuestionAnswering.from_pretrained(model_name)"
   ]
  },
  {
   "cell_type": "markdown",
   "metadata": {},
   "source": [
    "## 💬 Question Answering\n",
    "\n",
    "Tokenizing the context and the question, and performing inference to get model predictions."
   ]
  },
  {
   "cell_type": "code",
   "execution_count": 6,
   "metadata": {},
   "outputs": [],
   "source": [
    "inputs = tokenizer(question, context, return_tensors='pt')"
   ]
  },
  {
   "cell_type": "code",
   "execution_count": 7,
   "metadata": {},
   "outputs": [
    {
     "data": {
      "text/plain": [
       "['Mars',\n",
       " 'is',\n",
       " 'the',\n",
       " 'fourth',\n",
       " 'planet',\n",
       " 'from',\n",
       " 'the',\n",
       " 'Sun',\n",
       " '.',\n",
       " 'The',\n",
       " 'surface',\n",
       " 'of',\n",
       " 'Mars',\n",
       " 'is',\n",
       " 'orange',\n",
       " '-',\n",
       " 'red',\n",
       " 'because',\n",
       " 'it',\n",
       " 'is',\n",
       " 'covered',\n",
       " 'in',\n",
       " 'iron',\n",
       " 'oxide',\n",
       " 'dust',\n",
       " ',',\n",
       " 'giving',\n",
       " 'it',\n",
       " 'the',\n",
       " 'nickname',\n",
       " '\"',\n",
       " 'the',\n",
       " 'Red',\n",
       " 'Planet',\n",
       " '\"',\n",
       " '.',\n",
       " 'Mars',\n",
       " 'is',\n",
       " 'among',\n",
       " 'the',\n",
       " 'bright',\n",
       " '##est',\n",
       " 'objects',\n",
       " 'in',\n",
       " 'Earth',\n",
       " \"'\",\n",
       " 's',\n",
       " 'sky',\n",
       " ',',\n",
       " 'and',\n",
       " 'its',\n",
       " 'high',\n",
       " '-',\n",
       " 'contrast',\n",
       " 'al',\n",
       " '##bed',\n",
       " '##o',\n",
       " 'features',\n",
       " 'have',\n",
       " 'made',\n",
       " 'it',\n",
       " 'a',\n",
       " 'common',\n",
       " 'subject',\n",
       " 'for',\n",
       " 'telescope',\n",
       " 'viewing',\n",
       " '.',\n",
       " 'It',\n",
       " 'is',\n",
       " 'classified',\n",
       " 'as',\n",
       " 'a',\n",
       " 'terrestrial',\n",
       " 'planet',\n",
       " 'and',\n",
       " 'is',\n",
       " 'the',\n",
       " 'second',\n",
       " 'smallest',\n",
       " 'of',\n",
       " 'the',\n",
       " 'Solar',\n",
       " 'System',\n",
       " \"'\",\n",
       " 's',\n",
       " 'planets',\n",
       " 'with',\n",
       " 'a',\n",
       " 'diameter',\n",
       " 'of',\n",
       " '6',\n",
       " ',',\n",
       " '77',\n",
       " '##9',\n",
       " 'km',\n",
       " '(',\n",
       " '4',\n",
       " ',',\n",
       " '212',\n",
       " 'mi',\n",
       " ')',\n",
       " '.',\n",
       " 'In',\n",
       " 'terms',\n",
       " 'of',\n",
       " 'orbital',\n",
       " 'motion',\n",
       " ',',\n",
       " 'a',\n",
       " 'Martian',\n",
       " 'solar',\n",
       " 'day',\n",
       " '(',\n",
       " 'so',\n",
       " '##l',\n",
       " ')',\n",
       " 'is',\n",
       " 'equal',\n",
       " 'to',\n",
       " '24',\n",
       " '.',\n",
       " '5',\n",
       " 'hours',\n",
       " ',',\n",
       " 'and',\n",
       " 'a',\n",
       " 'Martian',\n",
       " 'solar',\n",
       " 'year',\n",
       " 'is',\n",
       " 'equal',\n",
       " 'to',\n",
       " '1',\n",
       " '.',\n",
       " '88',\n",
       " 'Earth',\n",
       " 'years',\n",
       " '(',\n",
       " '68',\n",
       " '##7',\n",
       " 'Earth',\n",
       " 'days',\n",
       " ')',\n",
       " '.',\n",
       " 'Mars',\n",
       " 'has',\n",
       " 'two',\n",
       " 'natural',\n",
       " 'satellites',\n",
       " 'that',\n",
       " 'are',\n",
       " 'small',\n",
       " 'and',\n",
       " 'irregular',\n",
       " 'in',\n",
       " 'shape',\n",
       " ':',\n",
       " 'Ph',\n",
       " '##ob',\n",
       " '##os',\n",
       " 'and',\n",
       " 'De',\n",
       " '##imo',\n",
       " '##s',\n",
       " '.']"
      ]
     },
     "execution_count": 7,
     "metadata": {},
     "output_type": "execute_result"
    }
   ],
   "source": [
    "tokenizer.tokenize(context)"
   ]
  },
  {
   "cell_type": "code",
   "execution_count": 8,
   "metadata": {},
   "outputs": [
    {
     "data": {
      "text/plain": [
       "166"
      ]
     },
     "execution_count": 8,
     "metadata": {},
     "output_type": "execute_result"
    }
   ],
   "source": [
    "len(tokenizer.tokenize(context))"
   ]
  },
  {
   "cell_type": "markdown",
   "metadata": {},
   "source": [
    "## 🏃‍♂️ Running the model and getting the start and end scores"
   ]
  },
  {
   "cell_type": "code",
   "execution_count": 9,
   "metadata": {},
   "outputs": [],
   "source": [
    "with torch.no_grad():\n",
    "  outputs = model(**inputs)"
   ]
  },
  {
   "cell_type": "code",
   "execution_count": 10,
   "metadata": {},
   "outputs": [
    {
     "data": {
      "text/plain": [
       "array([2.0014255e-03, 1.5604926e-06, 1.2231894e-06, 3.4202558e-06,\n",
       "       7.2055326e-07, 6.8492585e-07, 1.1704460e-06, 1.5586662e-06,\n",
       "       8.2280974e-07, 5.0587624e-07, 6.7996524e-07, 8.6587198e-07,\n",
       "       2.3632896e-05, 8.9089554e-07, 1.4002848e-06, 1.1875006e-05,\n",
       "       8.7150374e-07, 7.8483112e-07, 1.1808753e-06, 8.4442456e-07,\n",
       "       6.5416566e-07, 2.5243387e-05, 2.4411374e-05, 1.0415185e-06,\n",
       "       6.7582514e-05, 1.9840847e-06, 5.7631482e-06, 9.6993415e-07,\n",
       "       2.4049109e-06, 5.3849685e-01, 4.0327263e-01, 6.5456919e-04,\n",
       "       2.7484864e-02, 3.1921070e-05, 2.7298752e-02, 1.7349692e-05,\n",
       "       1.4586760e-04, 9.0782642e-06, 5.2416040e-06, 7.4715012e-06,\n",
       "       3.5204062e-06, 6.1712913e-06, 2.4356263e-05, 3.7039335e-05,\n",
       "       1.1514980e-04, 2.5337099e-06, 2.2415252e-06, 6.5047570e-06,\n",
       "       6.4385429e-05, 8.5592956e-07, 1.2258263e-06, 8.9336112e-07,\n",
       "       1.2624437e-06, 5.8894142e-07, 6.2223836e-07, 8.0403618e-07,\n",
       "       1.2276981e-06, 6.2467495e-07, 5.1685333e-07, 6.1045580e-07,\n",
       "       3.5250841e-07, 7.2483465e-07, 2.2775951e-06, 5.3637668e-06,\n",
       "       8.5768147e-07, 7.7068967e-07, 1.1655048e-06, 1.0629727e-06,\n",
       "       4.7205040e-07, 6.6071010e-07, 7.3364316e-07, 7.3819808e-07,\n",
       "       5.9337265e-07, 9.3420977e-07, 9.6741030e-07, 6.7769292e-07,\n",
       "       9.6733095e-07, 1.3531161e-06, 6.7512042e-07, 4.8174286e-07,\n",
       "       1.3311931e-06, 9.1162940e-07, 1.0926707e-06, 9.2561112e-07,\n",
       "       9.7988232e-07, 8.8776591e-07, 4.7587071e-07, 6.3405724e-07,\n",
       "       1.1447750e-06, 1.2702600e-06, 1.3972327e-06, 6.3554165e-07,\n",
       "       9.0384520e-07, 1.0877302e-06, 1.1525681e-06, 4.9009230e-07,\n",
       "       6.6533346e-07, 6.5318443e-07, 6.3343595e-07, 1.2226250e-06,\n",
       "       1.3370891e-06, 1.1200665e-06, 9.6027736e-07, 2.8844377e-06,\n",
       "       7.8091148e-07, 9.4404720e-07, 6.8186012e-07, 6.0732128e-07,\n",
       "       1.3149642e-06, 1.5830425e-06, 8.4511584e-07, 6.5348974e-07,\n",
       "       5.1632821e-07, 4.6194549e-07, 5.9629758e-07, 1.2629592e-06,\n",
       "       1.1586206e-06, 8.6205876e-07, 1.2246929e-06, 7.5920883e-07,\n",
       "       7.4561865e-07, 1.5077576e-06, 1.1593080e-06, 1.1862073e-06,\n",
       "       7.5546183e-07, 9.6523911e-07, 1.2297465e-06, 5.3114661e-07,\n",
       "       5.7748525e-07, 1.1815758e-06, 1.1768415e-06, 1.0917479e-06,\n",
       "       2.4581670e-06, 1.0616274e-06, 8.8752722e-07, 4.6380126e-07,\n",
       "       2.8950132e-07, 7.2501990e-07, 1.5297176e-06, 1.6026105e-06,\n",
       "       1.2330299e-06, 8.4621587e-07, 9.6427857e-07, 1.2017567e-06,\n",
       "       9.4048517e-07, 1.6431018e-06, 1.1023860e-06, 9.0370736e-07,\n",
       "       1.0159105e-06, 5.0070980e-07, 1.1186253e-06, 1.5915195e-06,\n",
       "       6.5332773e-07, 9.2296671e-07, 5.1019890e-07, 4.5728004e-07,\n",
       "       6.0512440e-07, 2.5176321e-06, 8.1831951e-07, 1.2082934e-06,\n",
       "       1.1203293e-06, 6.6685806e-07, 7.1932425e-07, 7.9978253e-07,\n",
       "       1.0721744e-06, 7.8311751e-07, 6.5745292e-07, 9.6667804e-07,\n",
       "       4.5527753e-07, 6.3256181e-07, 1.5024983e-06, 9.1234608e-07,\n",
       "       5.7686549e-07, 6.8384105e-07, 1.1029013e-06, 9.2313223e-07,\n",
       "       4.5393529e-07, 4.8910340e-07, 8.6586704e-07], dtype=float32)"
      ]
     },
     "execution_count": 10,
     "metadata": {},
     "output_type": "execute_result"
    }
   ],
   "source": [
    "start_scores = softmax(outputs.start_logits)[0]\n",
    "start_scores"
   ]
  },
  {
   "cell_type": "code",
   "execution_count": 11,
   "metadata": {},
   "outputs": [
    {
     "data": {
      "text/plain": [
       "179"
      ]
     },
     "execution_count": 11,
     "metadata": {},
     "output_type": "execute_result"
    }
   ],
   "source": [
    "len(start_scores)"
   ]
  },
  {
   "cell_type": "code",
   "execution_count": 12,
   "metadata": {},
   "outputs": [
    {
     "data": {
      "text/plain": [
       "array([8.1725966e-04, 6.7849800e-07, 3.5166158e-07, 3.6366282e-07,\n",
       "       5.7046782e-07, 5.8081685e-07, 4.4890780e-07, 3.3146191e-07,\n",
       "       4.5076064e-07, 1.0505756e-06, 8.3798659e-07, 6.2732198e-07,\n",
       "       6.6733514e-07, 4.1849552e-07, 3.0247605e-07, 1.8875893e-06,\n",
       "       8.9771839e-07, 5.2691416e-07, 3.3874772e-07, 1.9162744e-06,\n",
       "       7.3794462e-07, 2.4679701e-07, 2.0729829e-06, 4.4775720e-07,\n",
       "       1.1731300e-06, 2.8425131e-07, 5.2213409e-07, 4.5155056e-07,\n",
       "       2.2555041e-06, 4.3309890e-05, 3.3716799e-06, 1.6966696e-06,\n",
       "       1.3189668e-04, 9.2389273e-06, 2.1519225e-05, 3.9062725e-05,\n",
       "       9.6353865e-01, 2.9659936e-02, 3.4255388e-07, 2.6019088e-06,\n",
       "       1.9267847e-07, 8.0728000e-07, 4.8568467e-07, 3.8080546e-07,\n",
       "       6.9528896e-06, 2.3145026e-03, 2.3440877e-03, 9.6195203e-04,\n",
       "       4.9742664e-07, 4.5260728e-07, 3.5770327e-07, 4.0460446e-07,\n",
       "       3.7876018e-07, 6.8519887e-07, 6.7674347e-07, 4.2695439e-07,\n",
       "       3.5424395e-07, 5.2847776e-07, 6.6144759e-07, 1.2398147e-06,\n",
       "       1.2838269e-06, 5.5860551e-07, 2.4301409e-07, 2.9459977e-07,\n",
       "       3.8446879e-07, 5.6412017e-07, 3.5108388e-07, 3.7635888e-07,\n",
       "       8.9300926e-07, 1.0092838e-06, 5.7949893e-07, 5.3864107e-07,\n",
       "       6.7208305e-07, 4.1604463e-07, 4.8728066e-07, 6.5829670e-07,\n",
       "       4.1789849e-07, 4.5942801e-07, 1.0843887e-06, 9.1348829e-07,\n",
       "       3.0088188e-07, 3.9323092e-07, 3.4487363e-07, 3.8463017e-07,\n",
       "       3.7307231e-07, 4.5894893e-07, 8.4565994e-07, 5.4939835e-07,\n",
       "       3.2428204e-07, 2.9599124e-07, 3.4302590e-07, 7.3088052e-07,\n",
       "       4.2263667e-07, 3.2977030e-07, 3.6721096e-07, 8.1732423e-07,\n",
       "       5.1831881e-07, 5.6615261e-07, 6.9089708e-07, 3.4256433e-07,\n",
       "       3.1475636e-07, 4.1782278e-07, 3.9042462e-07, 2.5527746e-07,\n",
       "       5.0822871e-07, 4.0904521e-07, 5.8845183e-07, 8.4457275e-07,\n",
       "       3.3117087e-07, 3.1646840e-07, 5.1949911e-07, 6.8902176e-07,\n",
       "       9.4619418e-07, 1.1027265e-06, 7.4548348e-07, 2.9784511e-07,\n",
       "       3.4170944e-07, 4.0420491e-07, 3.6241366e-07, 6.1964101e-07,\n",
       "       4.5255032e-07, 2.4860651e-07, 4.0281535e-07, 3.9695959e-07,\n",
       "       6.3506297e-07, 3.7561378e-07, 3.2917518e-07, 6.8708346e-07,\n",
       "       6.7724579e-07, 3.1792828e-07, 3.2377372e-07, 3.3838998e-07,\n",
       "       2.4343626e-07, 3.4571696e-07, 5.5524509e-07, 3.7997602e-06,\n",
       "       1.0792092e-05, 6.2336562e-07, 2.4689095e-07, 3.5665889e-07,\n",
       "       3.5543513e-07, 4.9748070e-07, 3.5448221e-07, 3.1062419e-07,\n",
       "       3.6171033e-07, 2.6778426e-07, 3.4116957e-07, 4.9287320e-07,\n",
       "       4.2906467e-07, 8.5762576e-07, 3.2527660e-07, 2.8325411e-07,\n",
       "       5.9180098e-07, 4.0550606e-07, 8.4629005e-07, 8.8931398e-07,\n",
       "       7.0792970e-07, 2.8100024e-07, 4.3632048e-07, 3.4986022e-07,\n",
       "       3.2349902e-07, 5.4235079e-07, 4.7728099e-07, 4.3520384e-07,\n",
       "       3.4731144e-07, 4.4355687e-07, 5.5744965e-07, 4.3393356e-07,\n",
       "       9.1037310e-07, 5.7766374e-07, 2.7862052e-07, 4.1399480e-07,\n",
       "       6.3257448e-07, 5.3765058e-07, 3.2686125e-07, 4.4301152e-07,\n",
       "       8.8920967e-07, 8.4632882e-07, 6.2732380e-07], dtype=float32)"
      ]
     },
     "execution_count": 12,
     "metadata": {},
     "output_type": "execute_result"
    }
   ],
   "source": [
    "end_scores = softmax(outputs.end_logits)[0]\n",
    "end_scores"
   ]
  },
  {
   "cell_type": "code",
   "execution_count": 13,
   "metadata": {},
   "outputs": [
    {
     "data": {
      "text/plain": [
       "179"
      ]
     },
     "execution_count": 13,
     "metadata": {},
     "output_type": "execute_result"
    }
   ],
   "source": [
    "len(end_scores)"
   ]
  },
  {
   "cell_type": "code",
   "execution_count": 14,
   "metadata": {},
   "outputs": [
    {
     "data": {
      "text/plain": [
       "358"
      ]
     },
     "execution_count": 14,
     "metadata": {},
     "output_type": "execute_result"
    }
   ],
   "source": [
    "179 * 2"
   ]
  },
  {
   "cell_type": "markdown",
   "metadata": {},
   "source": [
    "## 🎯 Visualization of Token Scores\n",
    "\n",
    "Plotting the scores associated with each token to understand the model's decision-making process."
   ]
  },
  {
   "cell_type": "code",
   "execution_count": null,
   "metadata": {},
   "outputs": [
    {
     "data": {
      "text/html": [
       "<div>\n",
       "<style scoped>\n",
       "    .dataframe tbody tr th:only-of-type {\n",
       "        vertical-align: middle;\n",
       "    }\n",
       "\n",
       "    .dataframe tbody tr th {\n",
       "        vertical-align: top;\n",
       "    }\n",
       "\n",
       "    .dataframe thead th {\n",
       "        text-align: right;\n",
       "    }\n",
       "</style>\n",
       "<table border=\"1\" class=\"dataframe\">\n",
       "  <thead>\n",
       "    <tr style=\"text-align: right;\">\n",
       "      <th></th>\n",
       "      <th>token position</th>\n",
       "      <th>score</th>\n",
       "      <th>score type</th>\n",
       "    </tr>\n",
       "  </thead>\n",
       "  <tbody>\n",
       "    <tr>\n",
       "      <th>0</th>\n",
       "      <td>0</td>\n",
       "      <td>2.001425e-03</td>\n",
       "      <td>start</td>\n",
       "    </tr>\n",
       "    <tr>\n",
       "      <th>1</th>\n",
       "      <td>1</td>\n",
       "      <td>1.560493e-06</td>\n",
       "      <td>start</td>\n",
       "    </tr>\n",
       "    <tr>\n",
       "      <th>2</th>\n",
       "      <td>2</td>\n",
       "      <td>1.223189e-06</td>\n",
       "      <td>start</td>\n",
       "    </tr>\n",
       "    <tr>\n",
       "      <th>3</th>\n",
       "      <td>3</td>\n",
       "      <td>3.420256e-06</td>\n",
       "      <td>start</td>\n",
       "    </tr>\n",
       "    <tr>\n",
       "      <th>4</th>\n",
       "      <td>4</td>\n",
       "      <td>7.205533e-07</td>\n",
       "      <td>start</td>\n",
       "    </tr>\n",
       "    <tr>\n",
       "      <th>...</th>\n",
       "      <td>...</td>\n",
       "      <td>...</td>\n",
       "      <td>...</td>\n",
       "    </tr>\n",
       "    <tr>\n",
       "      <th>353</th>\n",
       "      <td>174</td>\n",
       "      <td>3.268613e-07</td>\n",
       "      <td>end</td>\n",
       "    </tr>\n",
       "    <tr>\n",
       "      <th>354</th>\n",
       "      <td>175</td>\n",
       "      <td>4.430115e-07</td>\n",
       "      <td>end</td>\n",
       "    </tr>\n",
       "    <tr>\n",
       "      <th>355</th>\n",
       "      <td>176</td>\n",
       "      <td>8.892097e-07</td>\n",
       "      <td>end</td>\n",
       "    </tr>\n",
       "    <tr>\n",
       "      <th>356</th>\n",
       "      <td>177</td>\n",
       "      <td>8.463288e-07</td>\n",
       "      <td>end</td>\n",
       "    </tr>\n",
       "    <tr>\n",
       "      <th>357</th>\n",
       "      <td>178</td>\n",
       "      <td>6.273238e-07</td>\n",
       "      <td>end</td>\n",
       "    </tr>\n",
       "  </tbody>\n",
       "</table>\n",
       "<p>358 rows × 3 columns</p>\n",
       "</div>"
      ],
      "text/plain": [
       "     token position         score score type\n",
       "0                 0  2.001425e-03      start\n",
       "1                 1  1.560493e-06      start\n",
       "2                 2  1.223189e-06      start\n",
       "3                 3  3.420256e-06      start\n",
       "4                 4  7.205533e-07      start\n",
       "..              ...           ...        ...\n",
       "353             174  3.268613e-07        end\n",
       "354             175  4.430115e-07        end\n",
       "355             176  8.892097e-07        end\n",
       "356             177  8.463288e-07        end\n",
       "357             178  6.273238e-07        end\n",
       "\n",
       "[358 rows x 3 columns]"
      ]
     },
     "execution_count": 15,
     "metadata": {},
     "output_type": "execute_result"
    }
   ],
   "source": [
    "scores_df = pd.DataFrame({'token position': list(range(len(start_scores))) * 2,\n",
    "                          'score': list(start_scores) + list(end_scores),\n",
    "                          'score type': ['start'] * len(start_scores) + ['end'] * len(end_scores)})\n",
    "scores_df"
   ]
  },
  {
   "cell_type": "code",
   "execution_count": 16,
   "metadata": {},
   "outputs": [],
   "source": [
    "pivot_df = scores_df.pivot(index='token position',\n",
    "                           columns='score type',\n",
    "                           values='score')"
   ]
  },
  {
   "cell_type": "code",
   "execution_count": 17,
   "metadata": {},
   "outputs": [
    {
     "data": {
      "image/png": "[encoded data removed]",
      "text/plain": [
       "<Figure size 800x400 with 1 Axes>"
      ]
     },
     "metadata": {},
     "output_type": "display_data"
    }
   ],
   "source": [
    "fig, ax = plt.subplots(figsize=(8, 4))\n",
    "pivot_df.plot(kind='bar', width=0.8, ax=ax)\n",
    "\n",
    "plt.title('start and end scores for tokens')\n",
    "plt.xlabel('token position')\n",
    "plt.ylabel('score')\n",
    "\n",
    "for i, label in enumerate(ax.xaxis.get_ticklabels()):\n",
    "  if i % 16 != 0:\n",
    "    label.set_visible(False)\n",
    "\n",
    "plt.legend(title='score type')\n",
    "plt.tight_layout()\n",
    "plt.show()"
   ]
  },
  {
   "cell_type": "code",
   "execution_count": 18,
   "metadata": {},
   "outputs": [
    {
     "data": {
      "application/vnd.plotly.v1+json": {
       "config": {
        "plotlyServerURL": "https://plot.ly"
       },
       "data": [
        {
         "alignmentgroup": "True",
         "hovertemplate": "score type=start<br>token position=%{x}<br>score=%{y}<extra></extra>",
         "legendgroup": "start",
         "marker": {
          "color": "#636efa",
          "pattern": {
           "shape": ""
          }
         },
         "name": "start",
         "offsetgroup": "start",
         "orientation": "v",
         "showlegend": true,
         "textposition": "auto",
         "type": "bar",
         "x": [
          0,
          1,
          2,
          3,
          4,
          5,
          6,
          7,
          8,
          9,
          10,
          11,
          12,
          13,
          14,
          15,
          16,
          17,
          18,
          19,
          20,
          21,
          22,
          23,
          24,
          25,
          26,
          27,
          28,
          29,
          30,
          31,
          32,
          33,
          34,
          35,
          36,
          37,
          38,
          39,
          40,
          41,
          42,
          43,
          44,
          45,
          46,
          47,
          48,
          49,
          50,
          51,
          52,
          53,
          54,
          55,
          56,
          57,
          58,
          59,
          60,
          61,
          62,
          63,
          64,
          65,
          66,
          67,
          68,
          69,
          70,
          71,
          72,
          73,
          74,
          75,
          76,
          77,
          78,
          79,
          80,
          81,
          82,
          83,
          84,
          85,
          86,
          87,
          88,
          89,
          90,
          91,
          92,
          93,
          94,
          95,
          96,
          97,
          98,
          99,
          100,
          101,
          102,
          103,
          104,
          105,
          106,
          107,
          108,
          109,
          110,
          111,
          112,
          113,
          114,
          115,
          116,
          117,
          118,
          119,
          120,
          121,
          122,
          123,
          124,
          125,
          126,
          127,
          128,
          129,
          130,
          131,
          132,
          133,
          134,
          135,
          136,
          137,
          138,
          139,
          140,
          141,
          142,
          143,
          144,
          145,
          146,
          147,
          148,
          149,
          150,
          151,
          152,
          153,
          154,
          155,
          156,
          157,
          158,
          159,
          160,
          161,
          162,
          163,
          164,
          165,
          166,
          167,
          168,
          169,
          170,
          171,
          172,
          173,
          174,
          175,
          176,
          177,
          178
         ],
         "xaxis": "x",
         "y": [
          0.0020014254841953516,
          0.0000015604925920342794,
          0.0000012231894288561307,
          0.0000034202557799289934,
          7.205532597254205e-7,
          6.84925851146545e-7,
          0.000001170446012110915,
          0.0000015586662129862816,
          8.22809738565411e-7,
          5.058762440057762e-7,
          6.799652396694e-7,
          8.658719821141858e-7,
          0.00002363289604545571,
          8.908955351216719e-7,
          0.000001400284759256465,
          0.000011875005839101505,
          8.715037438378204e-7,
          7.848311156521959e-7,
          0.000001180875301542983,
          8.444245622740709e-7,
          6.541656603076262e-7,
          0.00002524338742659893,
          0.00002441137439745944,
          0.0000010415185442980146,
          0.00006758251402061433,
          0.000001984084747164161,
          0.000005763148237747373,
          9.699341489977087e-7,
          0.0000024049109015322756,
          0.5384968519210815,
          0.4032726287841797,
          0.0006545691867358983,
          0.027484863996505737,
          0.000031921070331009105,
          0.02729875221848488,
          0.000017349691916024312,
          0.00014586759789381176,
          0.000009078264156414662,
          0.000005241603957983898,
          0.00000747150124880136,
          0.000003520406153256772,
          0.000006171291261125589,
          0.000024356262656510808,
          0.00003703933543874882,
          0.00011514979996718466,
          0.0000025337099032185506,
          0.000002241525180579629,
          0.000006504757038783282,
          0.00006438542914111167,
          8.559295565646607e-7,
          0.0000012258262813702459,
          8.933611184147594e-7,
          0.0000012624436749320012,
          5.889414183002373e-7,
          6.222383603926573e-7,
          8.040361763050896e-7,
          0.0000012276981351533323,
          6.246749535421259e-7,
          5.168533334654057e-7,
          6.104557996877702e-7,
          3.5250840824119223e-7,
          7.248346491905977e-7,
          0.000002277595058330917,
          0.000005363766831578687,
          8.576814707339508e-7,
          7.706896667514229e-7,
          0.0000011655048410830204,
          0.000001062972728504974,
          4.720504023225658e-7,
          6.607100999644899e-7,
          7.336431622206874e-7,
          7.381980822174228e-7,
          5.933726470175316e-7,
          9.342097655462567e-7,
          9.674103012002888e-7,
          6.776929240004392e-7,
          9.673309477875591e-7,
          0.0000013531160902857664,
          6.751204182364745e-7,
          4.817428589376505e-7,
          0.0000013311930615600431,
          9.11629399524827e-7,
          0.0000010926706863756408,
          9.256111184186011e-7,
          9.798823157325387e-7,
          8.877659070094523e-7,
          4.7587070639565354e-7,
          6.340572440421965e-7,
          0.0000011447749557191855,
          0.0000012702599860858754,
          0.0000013972327224109904,
          6.355416530823277e-7,
          9.038452049026091e-7,
          0.0000010877301974687725,
          0.0000011525680747581646,
          4.900923045170202e-7,
          6.653334594375337e-7,
          6.53184429211251e-7,
          6.334359454740479e-7,
          0.0000012226249737068429,
          0.0000013370890883379616,
          0.000001120066485782445,
          9.602773616279592e-7,
          0.0000028844376629422186,
          7.809114777046489e-7,
          9.440472013011458e-7,
          6.818601150371251e-7,
          6.073212830415287e-7,
          0.0000013149641517884447,
          0.0000015830424899831996,
          8.451158350908372e-7,
          6.534897352139524e-7,
          5.163282139619696e-7,
          4.619454898602271e-7,
          5.962975819784333e-7,
          0.0000012629592447410687,
          0.0000011586206483116257,
          8.620587550467462e-7,
          0.000001224692937284999,
          7.592088309138489e-7,
          7.456186494891881e-7,
          0.0000015077575881150551,
          0.0000011593079989324906,
          0.0000011862073279189644,
          7.554618264293822e-7,
          9.652391099734814e-7,
          0.0000012297465445954003,
          5.311466111379559e-7,
          5.774852525064489e-7,
          0.0000011815758398370235,
          0.0000011768414651669445,
          0.0000010917478903138544,
          0.0000024581670459156157,
          0.0000010616273584673763,
          8.875272214936558e-7,
          4.638012569557759e-7,
          2.8950131536475965e-7,
          7.250199018926651e-7,
          0.000001529717565063038,
          0.0000016026104958655196,
          0.0000012330299341556383,
          8.462158689326316e-7,
          9.642785698815715e-7,
          0.0000012017567314615007,
          9.404851653016522e-7,
          0.000001643101768422639,
          0.000001102386022466817,
          9.037073596118717e-7,
          0.0000010159104704143829,
          5.007098025089363e-7,
          0.000001118625277740648,
          0.000001591519549037912,
          6.533277314701991e-7,
          9.229667057297775e-7,
          5.101989017930464e-7,
          4.5728003783551685e-7,
          6.051243985893962e-7,
          0.0000025176320832542842,
          8.183195063793391e-7,
          0.0000012082933835699805,
          0.0000011203293297512573,
          6.668580567747995e-7,
          7.19324248166231e-7,
          7.997825264283165e-7,
          0.0000010721744274633238,
          7.83117513947218e-7,
          6.574529152203468e-7,
          9.666780442785239e-7,
          4.552775294541789e-7,
          6.325618073788064e-7,
          0.0000015024983213152154,
          9.123460813498241e-7,
          5.768654887106095e-7,
          6.838410513410054e-7,
          0.0000011029012512153713,
          9.231322337655001e-7,
          4.539352858046186e-7,
          4.891033995590988e-7,
          8.658670367367449e-7
         ],
         "yaxis": "y"
        },
        {
         "alignmentgroup": "True",
         "hovertemplate": "score type=end<br>token position=%{x}<br>score=%{y}<extra></extra>",
         "legendgroup": "end",
         "marker": {
          "color": "#EF553B",
          "pattern": {
           "shape": ""
          }
         },
         "name": "end",
         "offsetgroup": "end",
         "orientation": "v",
         "showlegend": true,
         "textposition": "auto",
         "type": "bar",
         "x": [
          0,
          1,
          2,
          3,
          4,
          5,
          6,
          7,
          8,
          9,
          10,
          11,
          12,
          13,
          14,
          15,
          16,
          17,
          18,
          19,
          20,
          21,
          22,
          23,
          24,
          25,
          26,
          27,
          28,
          29,
          30,
          31,
          32,
          33,
          34,
          35,
          36,
          37,
          38,
          39,
          40,
          41,
          42,
          43,
          44,
          45,
          46,
          47,
          48,
          49,
          50,
          51,
          52,
          53,
          54,
          55,
          56,
          57,
          58,
          59,
          60,
          61,
          62,
          63,
          64,
          65,
          66,
          67,
          68,
          69,
          70,
          71,
          72,
          73,
          74,
          75,
          76,
          77,
          78,
          79,
          80,
          81,
          82,
          83,
          84,
          85,
          86,
          87,
          88,
          89,
          90,
          91,
          92,
          93,
          94,
          95,
          96,
          97,
          98,
          99,
          100,
          101,
          102,
          103,
          104,
          105,
          106,
          107,
          108,
          109,
          110,
          111,
          112,
          113,
          114,
          115,
          116,
          117,
          118,
          119,
          120,
          121,
          122,
          123,
          124,
          125,
          126,
          127,
          128,
          129,
          130,
          131,
          132,
          133,
          134,
          135,
          136,
          137,
          138,
          139,
          140,
          141,
          142,
          143,
          144,
          145,
          146,
          147,
          148,
          149,
          150,
          151,
          152,
          153,
          154,
          155,
          156,
          157,
          158,
          159,
          160,
          161,
          162,
          163,
          164,
          165,
          166,
          167,
          168,
          169,
          170,
          171,
          172,
          173,
          174,
          175,
          176,
          177,
          178
         ],
         "xaxis": "x",
         "y": [
          0.0008172596571967006,
          6.784979973417649e-7,
          3.5166158340871334e-7,
          3.63662820745958e-7,
          5.704678187612444e-7,
          5.808168452858808e-7,
          4.489077980451839e-7,
          3.314619050343026e-7,
          4.5076063770466135e-7,
          0.0000010505756335987826,
          8.379865903407335e-7,
          6.273219810282171e-7,
          6.673351435892982e-7,
          4.1849551735140267e-7,
          3.024760530934145e-7,
          0.0000018875892919822945,
          8.977183938441158e-7,
          5.269141638564179e-7,
          3.387477249816584e-7,
          0.0000019162744138156995,
          7.379446174127224e-7,
          2.467970148245513e-7,
          0.000002072982852041605,
          4.4775720198231284e-7,
          0.0000011731300446626847,
          2.842513140421943e-7,
          5.221340870775748e-7,
          4.5155056227486057e-7,
          0.0000022555041141458787,
          0.00004330989031586796,
          0.0000033716798952809768,
          0.0000016966696421150118,
          0.00013189668243285269,
          0.000009238927304977551,
          0.000021519224901567213,
          0.000039062724681571126,
          0.963538646697998,
          0.02965993620455265,
          3.425538750434498e-7,
          0.0000026019088181783445,
          1.926784705119644e-7,
          8.072800028458005e-7,
          4.856846658185532e-7,
          3.808054600540345e-7,
          0.000006952889634703752,
          0.0023145026061683893,
          0.0023440876975655556,
          0.0009619520278647542,
          4.974266403223737e-7,
          4.52607281431483e-7,
          3.577032714474626e-7,
          4.0460446371071157e-7,
          3.7876017700000375e-7,
          6.851988700873335e-7,
          6.767434683752072e-7,
          4.269543865120795e-7,
          3.542439515058504e-7,
          5.284777557790221e-7,
          6.6144758648079e-7,
          0.0000012398146509440267,
          0.0000012838269185522222,
          5.586055067396956e-7,
          2.430140852993645e-7,
          2.945997721326421e-7,
          3.844687910259381e-7,
          5.641201710204768e-7,
          3.5108388374283095e-7,
          3.763588836136478e-7,
          8.93009257652011e-7,
          0.0000010092837783304276,
          5.79498930619593e-7,
          5.386410748542403e-7,
          6.720830469930661e-7,
          4.1604462808209064e-7,
          4.872806584899081e-7,
          6.582966989299166e-7,
          4.178984909231076e-7,
          4.5942800852571963e-7,
          0.0000010843887139344588,
          9.134882930084132e-7,
          3.0088187941146316e-7,
          3.9323091982623737e-7,
          3.4487362654544995e-7,
          3.8463016949208395e-7,
          3.730723108219536e-7,
          4.5894893219156074e-7,
          8.456599402961729e-7,
          5.49398350813135e-7,
          3.242820412197034e-7,
          2.959912421829358e-7,
          3.4302590279366996e-7,
          7.308805152206332e-7,
          4.2263667410225025e-7,
          3.2977030173242383e-7,
          3.672109585295402e-7,
          8.173242349585053e-7,
          5.183188136470562e-7,
          5.66152607461845e-7,
          6.908970817676163e-7,
          3.425643342325202e-7,
          3.1475636319555633e-7,
          4.17822775489185e-7,
          3.9042461708049814e-7,
          2.552774560626858e-7,
          5.082287088953308e-7,
          4.0904521370066504e-7,
          5.884518259335891e-7,
          8.44572753067041e-7,
          3.311708667297353e-7,
          3.164684017065156e-7,
          5.19499110396282e-7,
          6.890217605359794e-7,
          9.461941772315186e-7,
          0.0000011027265145457932,
          7.454834758391371e-7,
          2.978451050239528e-7,
          3.4170943763456307e-7,
          4.0420491131953895e-7,
          3.6241365819478233e-7,
          6.196410140546504e-7,
          4.5255032432578446e-7,
          2.486065113771474e-7,
          4.0281534552377707e-7,
          3.969595923081215e-7,
          6.350629746521008e-7,
          3.756137800792203e-7,
          3.291751795586606e-7,
          6.870834567962447e-7,
          6.772457936676801e-7,
          3.179282828114083e-7,
          3.237737189465406e-7,
          3.383899809250579e-7,
          2.4343626137124375e-7,
          3.457169555076689e-7,
          5.552450943469012e-7,
          0.0000037997601793904323,
          0.000010792092325573321,
          6.23365622232086e-7,
          2.468909485742188e-7,
          3.56658887312733e-7,
          3.554351337697881e-7,
          4.974806984137103e-7,
          3.544822106960055e-7,
          3.1062418770488875e-7,
          3.6171033457321755e-7,
          2.677842587672785e-7,
          3.4116956726393255e-7,
          4.928731982545287e-7,
          4.290646700155776e-7,
          8.576257641834673e-7,
          3.252766020978015e-7,
          2.832541099451191e-7,
          5.918009833294491e-7,
          4.0550605717726285e-7,
          8.462900495942449e-7,
          8.893139806787076e-7,
          7.079297006384877e-7,
          2.8100023996557866e-7,
          4.3632047663777485e-7,
          3.4986021546501433e-7,
          3.2349902312489576e-7,
          5.423507900559343e-7,
          4.772809916175902e-7,
          4.3520384451767313e-7,
          3.47311441828424e-7,
          4.4355687123243115e-7,
          5.574496526605799e-7,
          4.3393356463639066e-7,
          9.103731031245843e-7,
          5.776637408416718e-7,
          2.7862051865668036e-7,
          4.1399479755455104e-7,
          6.325744834612124e-7,
          5.376505782805907e-7,
          3.268612545070937e-7,
          4.4301151547188056e-7,
          8.89209673005098e-7,
          8.46328816805908e-7,
          6.273238000176207e-7
         ],
         "yaxis": "y"
        }
       ],
       "layout": {
        "barmode": "group",
        "legend": {
         "title": {
          "text": "score type"
         },
         "tracegroupgap": 0
        },
        "template": {
         "data": {
          "bar": [
           {
            "error_x": {
             "color": "#2a3f5f"
            },
            "error_y": {
             "color": "#2a3f5f"
            },
            "marker": {
             "line": {
              "color": "#E5ECF6",
              "width": 0.5
             },
             "pattern": {
              "fillmode": "overlay",
              "size": 10,
              "solidity": 0.2
             }
            },
            "type": "bar"
           }
          ],
          "barpolar": [
           {
            "marker": {
             "line": {
              "color": "#E5ECF6",
              "width": 0.5
             },
             "pattern": {
              "fillmode": "overlay",
              "size": 10,
              "solidity": 0.2
             }
            },
            "type": "barpolar"
           }
          ],
          "carpet": [
           {
            "aaxis": {
             "endlinecolor": "#2a3f5f",
             "gridcolor": "white",
             "linecolor": "white",
             "minorgridcolor": "white",
             "startlinecolor": "#2a3f5f"
            },
            "baxis": {
             "endlinecolor": "#2a3f5f",
             "gridcolor": "white",
             "linecolor": "white",
             "minorgridcolor": "white",
             "startlinecolor": "#2a3f5f"
            },
            "type": "carpet"
           }
          ],
          "choropleth": [
           {
            "colorbar": {
             "outlinewidth": 0,
             "ticks": ""
            },
            "type": "choropleth"
           }
          ],
          "contour": [
           {
            "colorbar": {
             "outlinewidth": 0,
             "ticks": ""
            },
            "colorscale": [
             [
              0,
              "#0d0887"
             ],
             [
              0.1111111111111111,
              "#46039f"
             ],
             [
              0.2222222222222222,
              "#7201a8"
             ],
             [
              0.3333333333333333,
              "#9c179e"
             ],
             [
              0.4444444444444444,
              "#bd3786"
             ],
             [
              0.5555555555555556,
              "#d8576b"
             ],
             [
              0.6666666666666666,
              "#ed7953"
             ],
             [
              0.7777777777777778,
              "#fb9f3a"
             ],
             [
              0.8888888888888888,
              "#fdca26"
             ],
             [
              1,
              "#f0f921"
             ]
            ],
            "type": "contour"
           }
          ],
          "contourcarpet": [
           {
            "colorbar": {
             "outlinewidth": 0,
             "ticks": ""
            },
            "type": "contourcarpet"
           }
          ],
          "heatmap": [
           {
            "colorbar": {
             "outlinewidth": 0,
             "ticks": ""
            },
            "colorscale": [
             [
              0,
              "#0d0887"
             ],
             [
              0.1111111111111111,
              "#46039f"
             ],
             [
              0.2222222222222222,
              "#7201a8"
             ],
             [
              0.3333333333333333,
              "#9c179e"
             ],
             [
              0.4444444444444444,
              "#bd3786"
             ],
             [
              0.5555555555555556,
              "#d8576b"
             ],
             [
              0.6666666666666666,
              "#ed7953"
             ],
             [
              0.7777777777777778,
              "#fb9f3a"
             ],
             [
              0.8888888888888888,
              "#fdca26"
             ],
             [
              1,
              "#f0f921"
             ]
            ],
            "type": "heatmap"
           }
          ],
          "heatmapgl": [
           {
            "colorbar": {
             "outlinewidth": 0,
             "ticks": ""
            },
            "colorscale": [
             [
              0,
              "#0d0887"
             ],
             [
              0.1111111111111111,
              "#46039f"
             ],
             [
              0.2222222222222222,
              "#7201a8"
             ],
             [
              0.3333333333333333,
              "#9c179e"
             ],
             [
              0.4444444444444444,
              "#bd3786"
             ],
             [
              0.5555555555555556,
              "#d8576b"
             ],
             [
              0.6666666666666666,
              "#ed7953"
             ],
             [
              0.7777777777777778,
              "#fb9f3a"
             ],
             [
              0.8888888888888888,
              "#fdca26"
             ],
             [
              1,
              "#f0f921"
             ]
            ],
            "type": "heatmapgl"
           }
          ],
          "histogram": [
           {
            "marker": {
             "pattern": {
              "fillmode": "overlay",
              "size": 10,
              "solidity": 0.2
             }
            },
            "type": "histogram"
           }
          ],
          "histogram2d": [
           {
            "colorbar": {
             "outlinewidth": 0,
             "ticks": ""
            },
            "colorscale": [
             [
              0,
              "#0d0887"
             ],
             [
              0.1111111111111111,
              "#46039f"
             ],
             [
              0.2222222222222222,
              "#7201a8"
             ],
             [
              0.3333333333333333,
              "#9c179e"
             ],
             [
              0.4444444444444444,
              "#bd3786"
             ],
             [
              0.5555555555555556,
              "#d8576b"
             ],
             [
              0.6666666666666666,
              "#ed7953"
             ],
             [
              0.7777777777777778,
              "#fb9f3a"
             ],
             [
              0.8888888888888888,
              "#fdca26"
             ],
             [
              1,
              "#f0f921"
             ]
            ],
            "type": "histogram2d"
           }
          ],
          "histogram2dcontour": [
           {
            "colorbar": {
             "outlinewidth": 0,
             "ticks": ""
            },
            "colorscale": [
             [
              0,
              "#0d0887"
             ],
             [
              0.1111111111111111,
              "#46039f"
             ],
             [
              0.2222222222222222,
              "#7201a8"
             ],
             [
              0.3333333333333333,
              "#9c179e"
             ],
             [
              0.4444444444444444,
              "#bd3786"
             ],
             [
              0.5555555555555556,
              "#d8576b"
             ],
             [
              0.6666666666666666,
              "#ed7953"
             ],
             [
              0.7777777777777778,
              "#fb9f3a"
             ],
             [
              0.8888888888888888,
              "#fdca26"
             ],
             [
              1,
              "#f0f921"
             ]
            ],
            "type": "histogram2dcontour"
           }
          ],
          "mesh3d": [
           {
            "colorbar": {
             "outlinewidth": 0,
             "ticks": ""
            },
            "type": "mesh3d"
           }
          ],
          "parcoords": [
           {
            "line": {
             "colorbar": {
              "outlinewidth": 0,
              "ticks": ""
             }
            },
            "type": "parcoords"
           }
          ],
          "pie": [
           {
            "automargin": true,
            "type": "pie"
           }
          ],
          "scatter": [
           {
            "fillpattern": {
             "fillmode": "overlay",
             "size": 10,
             "solidity": 0.2
            },
            "type": "scatter"
           }
          ],
          "scatter3d": [
           {
            "line": {
             "colorbar": {
              "outlinewidth": 0,
              "ticks": ""
             }
            },
            "marker": {
             "colorbar": {
              "outlinewidth": 0,
              "ticks": ""
             }
            },
            "type": "scatter3d"
           }
          ],
          "scattercarpet": [
           {
            "marker": {
             "colorbar": {
              "outlinewidth": 0,
              "ticks": ""
             }
            },
            "type": "scattercarpet"
           }
          ],
          "scattergeo": [
           {
            "marker": {
             "colorbar": {
              "outlinewidth": 0,
              "ticks": ""
             }
            },
            "type": "scattergeo"
           }
          ],
          "scattergl": [
           {
            "marker": {
             "colorbar": {
              "outlinewidth": 0,
              "ticks": ""
             }
            },
            "type": "scattergl"
           }
          ],
          "scattermapbox": [
           {
            "marker": {
             "colorbar": {
              "outlinewidth": 0,
              "ticks": ""
             }
            },
            "type": "scattermapbox"
           }
          ],
          "scatterpolar": [
           {
            "marker": {
             "colorbar": {
              "outlinewidth": 0,
              "ticks": ""
             }
            },
            "type": "scatterpolar"
           }
          ],
          "scatterpolargl": [
           {
            "marker": {
             "colorbar": {
              "outlinewidth": 0,
              "ticks": ""
             }
            },
            "type": "scatterpolargl"
           }
          ],
          "scatterternary": [
           {
            "marker": {
             "colorbar": {
              "outlinewidth": 0,
              "ticks": ""
             }
            },
            "type": "scatterternary"
           }
          ],
          "surface": [
           {
            "colorbar": {
             "outlinewidth": 0,
             "ticks": ""
            },
            "colorscale": [
             [
              0,
              "#0d0887"
             ],
             [
              0.1111111111111111,
              "#46039f"
             ],
             [
              0.2222222222222222,
              "#7201a8"
             ],
             [
              0.3333333333333333,
              "#9c179e"
             ],
             [
              0.4444444444444444,
              "#bd3786"
             ],
             [
              0.5555555555555556,
              "#d8576b"
             ],
             [
              0.6666666666666666,
              "#ed7953"
             ],
             [
              0.7777777777777778,
              "#fb9f3a"
             ],
             [
              0.8888888888888888,
              "#fdca26"
             ],
             [
              1,
              "#f0f921"
             ]
            ],
            "type": "surface"
           }
          ],
          "table": [
           {
            "cells": {
             "fill": {
              "color": "#EBF0F8"
             },
             "line": {
              "color": "white"
             }
            },
            "header": {
             "fill": {
              "color": "#C8D4E3"
             },
             "line": {
              "color": "white"
             }
            },
            "type": "table"
           }
          ]
         },
         "layout": {
          "annotationdefaults": {
           "arrowcolor": "#2a3f5f",
           "arrowhead": 0,
           "arrowwidth": 1
          },
          "autotypenumbers": "strict",
          "coloraxis": {
           "colorbar": {
            "outlinewidth": 0,
            "ticks": ""
           }
          },
          "colorscale": {
           "diverging": [
            [
             0,
             "#8e0152"
            ],
            [
             0.1,
             "#c51b7d"
            ],
            [
             0.2,
             "#de77ae"
            ],
            [
             0.3,
             "#f1b6da"
            ],
            [
             0.4,
             "#fde0ef"
            ],
            [
             0.5,
             "#f7f7f7"
            ],
            [
             0.6,
             "#e6f5d0"
            ],
            [
             0.7,
             "#b8e186"
            ],
            [
             0.8,
             "#7fbc41"
            ],
            [
             0.9,
             "#4d9221"
            ],
            [
             1,
             "#276419"
            ]
           ],
           "sequential": [
            [
             0,
             "#0d0887"
            ],
            [
             0.1111111111111111,
             "#46039f"
            ],
            [
             0.2222222222222222,
             "#7201a8"
            ],
            [
             0.3333333333333333,
             "#9c179e"
            ],
            [
             0.4444444444444444,
             "#bd3786"
            ],
            [
             0.5555555555555556,
             "#d8576b"
            ],
            [
             0.6666666666666666,
             "#ed7953"
            ],
            [
             0.7777777777777778,
             "#fb9f3a"
            ],
            [
             0.8888888888888888,
             "#fdca26"
            ],
            [
             1,
             "#f0f921"
            ]
           ],
           "sequentialminus": [
            [
             0,
             "#0d0887"
            ],
            [
             0.1111111111111111,
             "#46039f"
            ],
            [
             0.2222222222222222,
             "#7201a8"
            ],
            [
             0.3333333333333333,
             "#9c179e"
            ],
            [
             0.4444444444444444,
             "#bd3786"
            ],
            [
             0.5555555555555556,
             "#d8576b"
            ],
            [
             0.6666666666666666,
             "#ed7953"
            ],
            [
             0.7777777777777778,
             "#fb9f3a"
            ],
            [
             0.8888888888888888,
             "#fdca26"
            ],
            [
             1,
             "#f0f921"
            ]
           ]
          },
          "colorway": [
           "#636efa",
           "#EF553B",
           "#00cc96",
           "#ab63fa",
           "#FFA15A",
           "#19d3f3",
           "#FF6692",
           "#B6E880",
           "#FF97FF",
           "#FECB52"
          ],
          "font": {
           "color": "#2a3f5f"
          },
          "geo": {
           "bgcolor": "white",
           "lakecolor": "white",
           "landcolor": "#E5ECF6",
           "showlakes": true,
           "showland": true,
           "subunitcolor": "white"
          },
          "hoverlabel": {
           "align": "left"
          },
          "hovermode": "closest",
          "mapbox": {
           "style": "light"
          },
          "paper_bgcolor": "white",
          "plot_bgcolor": "#E5ECF6",
          "polar": {
           "angularaxis": {
            "gridcolor": "white",
            "linecolor": "white",
            "ticks": ""
           },
           "bgcolor": "#E5ECF6",
           "radialaxis": {
            "gridcolor": "white",
            "linecolor": "white",
            "ticks": ""
           }
          },
          "scene": {
           "xaxis": {
            "backgroundcolor": "#E5ECF6",
            "gridcolor": "white",
            "gridwidth": 2,
            "linecolor": "white",
            "showbackground": true,
            "ticks": "",
            "zerolinecolor": "white"
           },
           "yaxis": {
            "backgroundcolor": "#E5ECF6",
            "gridcolor": "white",
            "gridwidth": 2,
            "linecolor": "white",
            "showbackground": true,
            "ticks": "",
            "zerolinecolor": "white"
           },
           "zaxis": {
            "backgroundcolor": "#E5ECF6",
            "gridcolor": "white",
            "gridwidth": 2,
            "linecolor": "white",
            "showbackground": true,
            "ticks": "",
            "zerolinecolor": "white"
           }
          },
          "shapedefaults": {
           "line": {
            "color": "#2a3f5f"
           }
          },
          "ternary": {
           "aaxis": {
            "gridcolor": "white",
            "linecolor": "white",
            "ticks": ""
           },
           "baxis": {
            "gridcolor": "white",
            "linecolor": "white",
            "ticks": ""
           },
           "bgcolor": "#E5ECF6",
           "caxis": {
            "gridcolor": "white",
            "linecolor": "white",
            "ticks": ""
           }
          },
          "title": {
           "x": 0.05
          },
          "xaxis": {
           "automargin": true,
           "gridcolor": "white",
           "linecolor": "white",
           "ticks": "",
           "title": {
            "standoff": 15
           },
           "zerolinecolor": "white",
           "zerolinewidth": 2
          },
          "yaxis": {
           "automargin": true,
           "gridcolor": "white",
           "linecolor": "white",
           "ticks": "",
           "title": {
            "standoff": 15
           },
           "zerolinecolor": "white",
           "zerolinewidth": 2
          }
         }
        },
        "title": {
         "text": "start and end scores for tokens"
        },
        "xaxis": {
         "anchor": "y",
         "domain": [
          0,
          1
         ],
         "title": {
          "text": "token position"
         }
        },
        "yaxis": {
         "anchor": "x",
         "domain": [
          0,
          1
         ],
         "title": {
          "text": "score"
         }
        }
       }
      }
     },
     "metadata": {},
     "output_type": "display_data"
    }
   ],
   "source": [
    "px.bar(scores_df,\n",
    "       x='token position',\n",
    "       y='score',\n",
    "       color='score type',\n",
    "       barmode='group',\n",
    "       title='start and end scores for tokens')"
   ]
  },
  {
   "cell_type": "markdown",
   "metadata": {},
   "source": [
    "## 🔬 Extracting the Answer\n",
    "\n",
    "Identifying the tokens that comprise the answer based on the highest start and end scores."
   ]
  },
  {
   "cell_type": "code",
   "execution_count": 19,
   "metadata": {},
   "outputs": [
    {
     "data": {
      "text/plain": [
       "np.int64(29)"
      ]
     },
     "execution_count": 19,
     "metadata": {},
     "output_type": "execute_result"
    }
   ],
   "source": [
    "start_idx = np.argmax(start_scores)\n",
    "start_idx"
   ]
  },
  {
   "cell_type": "code",
   "execution_count": 20,
   "metadata": {},
   "outputs": [
    {
     "data": {
      "text/plain": [
       "np.int64(36)"
      ]
     },
     "execution_count": 20,
     "metadata": {},
     "output_type": "execute_result"
    }
   ],
   "source": [
    "end_idx = np.argmax(end_scores)\n",
    "end_idx"
   ]
  },
  {
   "cell_type": "code",
   "execution_count": 21,
   "metadata": {},
   "outputs": [
    {
     "data": {
      "text/plain": [
       "tensor([ 1272,  1122,  1110,  2262,  1107,  3926, 17151,  6693])"
      ]
     },
     "execution_count": 21,
     "metadata": {},
     "output_type": "execute_result"
    }
   ],
   "source": [
    "answer_ids = inputs.input_ids[0][start_idx: end_idx + 1]\n",
    "answer_ids"
   ]
  },
  {
   "cell_type": "code",
   "execution_count": 22,
   "metadata": {},
   "outputs": [
    {
     "data": {
      "text/plain": [
       "['because', 'it', 'is', 'covered', 'in', 'iron', 'oxide', 'dust']"
      ]
     },
     "execution_count": 22,
     "metadata": {},
     "output_type": "execute_result"
    }
   ],
   "source": [
    "answer_tokens = tokenizer.convert_ids_to_tokens(answer_ids)\n",
    "answer_tokens"
   ]
  },
  {
   "cell_type": "code",
   "execution_count": 23,
   "metadata": {},
   "outputs": [
    {
     "data": {
      "text/plain": [
       "'because it is covered in iron oxide dust'"
      ]
     },
     "execution_count": 23,
     "metadata": {},
     "output_type": "execute_result"
    }
   ],
   "source": [
    "answer = tokenizer.convert_tokens_to_string(answer_tokens)\n",
    "answer"
   ]
  },
  {
   "cell_type": "code",
   "execution_count": 24,
   "metadata": {},
   "outputs": [
    {
     "data": {
      "text/plain": [
       "(\"Why is Mars's surface orange-red?\",\n",
       " 'because it is covered in iron oxide dust')"
      ]
     },
     "execution_count": 24,
     "metadata": {},
     "output_type": "execute_result"
    }
   ],
   "source": [
    "question, answer"
   ]
  },
  {
   "cell_type": "markdown",
   "metadata": {},
   "source": [
    "## 🪄 Defining a function to predict the answer to a question given a context"
   ]
  },
  {
   "cell_type": "code",
   "execution_count": 25,
   "metadata": {},
   "outputs": [],
   "source": [
    "def predict_answer(context, question):\n",
    "  inputs = tokenizer(question,\n",
    "                     context,\n",
    "                     return_tensors='pt',\n",
    "                     truncation=True,\n",
    "                     max_length=512)\n",
    "\n",
    "  with torch.no_grad():\n",
    "    outputs = model(**inputs)\n",
    "\n",
    "  start_scores = softmax(outputs.start_logits)[0]\n",
    "  end_scores = softmax(outputs.end_logits)[0]\n",
    "\n",
    "  start_idx = np.argmax(start_scores)\n",
    "  end_idx = np.argmax(end_scores)\n",
    "\n",
    "  confidence_score = (start_scores[start_idx] + end_scores[end_idx]) / 2\n",
    "\n",
    "  answer_ids = inputs.input_ids[0][start_idx:end_idx + 1]\n",
    "  answer_tokens = tokenizer.convert_ids_to_tokens(answer_ids)\n",
    "  answer = tokenizer.convert_tokens_to_string(answer_tokens)\n",
    "\n",
    "  if answer != tokenizer.cls_token:\n",
    "    return answer, confidence_score\n",
    "\n",
    "  return 'no answer found', confidence_score"
   ]
  },
  {
   "cell_type": "markdown",
   "metadata": {},
   "source": [
    "## 🧮 Evaluating the Function\n",
    "\n",
    "Testing the `predict_answer` function with various questions and contexts."
   ]
  },
  {
   "cell_type": "code",
   "execution_count": 26,
   "metadata": {},
   "outputs": [],
   "source": [
    "context = '''Since the late 20th century, Mars has been explored by uncrewed spacecraft and rovers, with the first flyby by the Mariner 4 probe in 1965, the first orbit by the Mars 2 probe in 1971, and the first landing by the Viking 1 probe in 1976. As of 2023, there are at least 11 active probes orbiting Mars or on the Martian surface. Mars is an attractive target for future human exploration missions, though in the 2020s no such mission is planned.'''"
   ]
  },
  {
   "cell_type": "code",
   "execution_count": 27,
   "metadata": {},
   "outputs": [
    {
     "data": {
      "text/plain": [
       "100"
      ]
     },
     "execution_count": 27,
     "metadata": {},
     "output_type": "execute_result"
    }
   ],
   "source": [
    "len(tokenizer.tokenize(context))"
   ]
  },
  {
   "cell_type": "code",
   "execution_count": 28,
   "metadata": {},
   "outputs": [
    {
     "data": {
      "text/plain": [
       "('11', np.float32(0.89587927))"
      ]
     },
     "execution_count": 28,
     "metadata": {},
     "output_type": "execute_result"
    }
   ],
   "source": [
    "predict_answer(context, 'How many active probes are currently orbiting Mars?')"
   ]
  },
  {
   "cell_type": "code",
   "execution_count": 29,
   "metadata": {},
   "outputs": [
    {
     "data": {
      "text/plain": [
       "('late 20th century', np.float32(0.706227))"
      ]
     },
     "execution_count": 29,
     "metadata": {},
     "output_type": "execute_result"
    }
   ],
   "source": [
    "predict_answer(context, 'Since when has Mars been explored?')"
   ]
  },
  {
   "cell_type": "markdown",
   "metadata": {},
   "source": [
    "## 🚨 Maximum allowed sequence length"
   ]
  },
  {
   "cell_type": "code",
   "execution_count": 30,
   "metadata": {},
   "outputs": [],
   "source": [
    "context = '''The Solar System is the gravitationally bound system of the Sun and the objects that orbit it. It formed about 4.6 billion years ago when a dense region of a molecular cloud collapsed, forming the Sun and a protoplanetary disc. The Sun is a typical star that maintains a balanced equilibrium by the fusion of hydrogen into helium at its core, releasing this energy from its outer photosphere. Astronomers classify it as a G-type main-sequence star.\n",
    "The largest objects that orbit the Sun are the eight planets. In order from the Sun, they are four terrestrial planets (Mercury, Venus, Earth and Mars); two gas giants (Jupiter and Saturn); and two ice giants (Uranus and Neptune). All terrestrial planets have solid surfaces. Inversely, all giant planets do not have a definite surface, as they are mainly composed of gases and liquids. Over 99.86% of the Solar System's mass is in the Sun and nearly 90% of the remaining mass is in Jupiter and Saturn.\n",
    "There is a strong consensus among astronomers that the Solar System has at least nine dwarf planets: Ceres, Orcus, Pluto, Haumea, Quaoar, Makemake, Gonggong, Eris, and Sedna. There are a vast number of small Solar System bodies, such as asteroids, comets, centaurs, meteoroids, and interplanetary dust clouds. Some of these bodies are in the asteroid belt (between Mars's and Jupiter's orbit) and the Kuiper belt (just outside Neptune's orbit). Six planets, seven dwarf planets, and other bodies have orbiting natural satellites, which are commonly called 'moons'.\n",
    "The Solar System is constantly flooded by the Sun's charged particles, the solar wind, forming the heliosphere. Around 75–90 astronomical units from the Sun, the solar wind is halted, resulting in the heliopause. This is the boundary of the Solar System to interstellar space. The outermost region of the Solar System is the theorized Oort cloud, the source for long-period comets, extending to a radius of 2,000–200,000 AU. The closest star to the Solar System, Proxima Centauri, is 4.25 light-years (269,000 AU) away. Both stars belong to the Milky Way galaxy.\n",
    "The Sun is the star at the center of the Solar System. It is a massive, nearly perfect sphere of hot plasma, heated to incandescence by nuclear fusion reactions in its core, radiating the energy from its surface mainly as visible light and infrared radiation with 10% at ultraviolet energies. It is by far the most important source of energy for life on Earth. The Sun has been an object of veneration in many cultures. It has been a central subject for astronomical research since antiquity.'''"
   ]
  },
  {
   "cell_type": "code",
   "execution_count": 31,
   "metadata": {},
   "outputs": [
    {
     "name": "stderr",
     "output_type": "stream",
     "text": [
      "Token indices sequence length is longer than the specified maximum sequence length for this model (605 > 512). Running this sequence through the model will result in indexing errors\n"
     ]
    },
    {
     "data": {
      "text/plain": [
       "605"
      ]
     },
     "execution_count": 31,
     "metadata": {},
     "output_type": "execute_result"
    }
   ],
   "source": [
    "len(tokenizer.tokenize(context))"
   ]
  },
  {
   "cell_type": "markdown",
   "metadata": {},
   "source": [
    "## 🤹‍♂️ Chunking sentences to handle longer contexts\n",
    "\n",
    "This technique involves dividing a long text into smaller, overlapping chunks or segments, each within the token limit, to ensure that BERT can process the text while retaining as much context as possible."
   ]
  },
  {
   "cell_type": "code",
   "execution_count": 32,
   "metadata": {},
   "outputs": [],
   "source": [
    "def chunk_sentences(sentences, chunk_size, stride):\n",
    "  chunks = []\n",
    "  num_sentences = len(sentences)\n",
    "\n",
    "  for i in range(0, num_sentences, chunk_size - stride):\n",
    "    chunk = sentences[i: i + chunk_size]\n",
    "    chunks.append(chunk)\n",
    "\n",
    "  return chunks"
   ]
  },
  {
   "cell_type": "code",
   "execution_count": 33,
   "metadata": {},
   "outputs": [],
   "source": [
    "example_sentences = '''example sentence 1. example sentence 2. example sentence 3. example sentence 4.'''"
   ]
  },
  {
   "cell_type": "code",
   "execution_count": 34,
   "metadata": {},
   "outputs": [
    {
     "data": {
      "text/plain": [
       "['example sentence 1',\n",
       " ' example sentence 2',\n",
       " ' example sentence 3',\n",
       " ' example sentence 4',\n",
       " '']"
      ]
     },
     "execution_count": 34,
     "metadata": {},
     "output_type": "execute_result"
    }
   ],
   "source": [
    "example_sentences.split('.')"
   ]
  },
  {
   "cell_type": "code",
   "execution_count": 35,
   "metadata": {},
   "outputs": [
    {
     "data": {
      "text/plain": [
       "['exa',\n",
       " 'amp',\n",
       " 'ple',\n",
       " 'e s',\n",
       " 'sen',\n",
       " 'nte',\n",
       " 'enc',\n",
       " 'ce ',\n",
       " ' 1.',\n",
       " '. e',\n",
       " 'exa',\n",
       " 'amp',\n",
       " 'ple',\n",
       " 'e s',\n",
       " 'sen',\n",
       " 'nte',\n",
       " 'enc',\n",
       " 'ce ',\n",
       " ' 2.',\n",
       " '. e',\n",
       " 'exa',\n",
       " 'amp',\n",
       " 'ple',\n",
       " 'e s',\n",
       " 'sen',\n",
       " 'nte',\n",
       " 'enc',\n",
       " 'ce ',\n",
       " ' 3.',\n",
       " '. e',\n",
       " 'exa',\n",
       " 'amp',\n",
       " 'ple',\n",
       " 'e s',\n",
       " 'sen',\n",
       " 'nte',\n",
       " 'enc',\n",
       " 'ce ',\n",
       " ' 4.',\n",
       " '.']"
      ]
     },
     "execution_count": 35,
     "metadata": {},
     "output_type": "execute_result"
    }
   ],
   "source": [
    "chunk_sentences(example_sentences, chunk_size=3, stride=1)"
   ]
  },
  {
   "cell_type": "code",
   "execution_count": 36,
   "metadata": {},
   "outputs": [
    {
     "data": {
      "text/plain": [
       "\"The Solar System is the gravitationally bound system of the Sun and the objects that orbit it. It formed about 4.6 billion years ago when a dense region of a molecular cloud collapsed, forming the Sun and a protoplanetary disc. The Sun is a typical star that maintains a balanced equilibrium by the fusion of hydrogen into helium at its core, releasing this energy from its outer photosphere. Astronomers classify it as a G-type main-sequence star.\\nThe largest objects that orbit the Sun are the eight planets. In order from the Sun, they are four terrestrial planets (Mercury, Venus, Earth and Mars); two gas giants (Jupiter and Saturn); and two ice giants (Uranus and Neptune). All terrestrial planets have solid surfaces. Inversely, all giant planets do not have a definite surface, as they are mainly composed of gases and liquids. Over 99.86% of the Solar System's mass is in the Sun and nearly 90% of the remaining mass is in Jupiter and Saturn.\\nThere is a strong consensus among astronomers that the Solar System has at least nine dwarf planets: Ceres, Orcus, Pluto, Haumea, Quaoar, Makemake, Gonggong, Eris, and Sedna. There are a vast number of small Solar System bodies, such as asteroids, comets, centaurs, meteoroids, and interplanetary dust clouds. Some of these bodies are in the asteroid belt (between Mars's and Jupiter's orbit) and the Kuiper belt (just outside Neptune's orbit). Six planets, seven dwarf planets, and other bodies have orbiting natural satellites, which are commonly called 'moons'.\\nThe Solar System is constantly flooded by the Sun's charged particles, the solar wind, forming the heliosphere. Around 75–90 astronomical units from the Sun, the solar wind is halted, resulting in the heliopause. This is the boundary of the Solar System to interstellar space. The outermost region of the Solar System is the theorized Oort cloud, the source for long-period comets, extending to a radius of 2,000–200,000 AU. The closest star to the Solar System, Proxima Centauri, is 4.25 light-years (269,000 AU) away. Both stars belong to the Milky Way galaxy.\\nThe Sun is the star at the center of the Solar System. It is a massive, nearly perfect sphere of hot plasma, heated to incandescence by nuclear fusion reactions in its core, radiating the energy from its surface mainly as visible light and infrared radiation with 10% at ultraviolet energies. It is by far the most important source of energy for life on Earth. The Sun has been an object of veneration in many cultures. It has been a central subject for astronomical research since antiquity.\""
      ]
     },
     "execution_count": 36,
     "metadata": {},
     "output_type": "execute_result"
    }
   ],
   "source": [
    "context"
   ]
  },
  {
   "cell_type": "code",
   "execution_count": 37,
   "metadata": {},
   "outputs": [
    {
     "data": {
      "text/plain": [
       "['The Solar System is the gravitationally bound system of the Sun and the objects that orbit it. It formed about 4.6 billion years ago when a dense region of a molecular cloud collapsed, forming the Sun and a protoplanetary disc. The Sun is a typical star that maintains a balanced equilibrium by the fusion of hydrogen into helium at its core, releasing this energy from its outer photosphere. Astronomers classify it as a G-type main-sequence star.',\n",
       " \"The largest objects that orbit the Sun are the eight planets. In order from the Sun, they are four terrestrial planets (Mercury, Venus, Earth and Mars); two gas giants (Jupiter and Saturn); and two ice giants (Uranus and Neptune). All terrestrial planets have solid surfaces. Inversely, all giant planets do not have a definite surface, as they are mainly composed of gases and liquids. Over 99.86% of the Solar System's mass is in the Sun and nearly 90% of the remaining mass is in Jupiter and Saturn.\",\n",
       " \"There is a strong consensus among astronomers that the Solar System has at least nine dwarf planets: Ceres, Orcus, Pluto, Haumea, Quaoar, Makemake, Gonggong, Eris, and Sedna. There are a vast number of small Solar System bodies, such as asteroids, comets, centaurs, meteoroids, and interplanetary dust clouds. Some of these bodies are in the asteroid belt (between Mars's and Jupiter's orbit) and the Kuiper belt (just outside Neptune's orbit). Six planets, seven dwarf planets, and other bodies have orbiting natural satellites, which are commonly called 'moons'.\",\n",
       " \"The Solar System is constantly flooded by the Sun's charged particles, the solar wind, forming the heliosphere. Around 75–90 astronomical units from the Sun, the solar wind is halted, resulting in the heliopause. This is the boundary of the Solar System to interstellar space. The outermost region of the Solar System is the theorized Oort cloud, the source for long-period comets, extending to a radius of 2,000–200,000 AU. The closest star to the Solar System, Proxima Centauri, is 4.25 light-years (269,000 AU) away. Both stars belong to the Milky Way galaxy.\",\n",
       " 'The Sun is the star at the center of the Solar System. It is a massive, nearly perfect sphere of hot plasma, heated to incandescence by nuclear fusion reactions in its core, radiating the energy from its surface mainly as visible light and infrared radiation with 10% at ultraviolet energies. It is by far the most important source of energy for life on Earth. The Sun has been an object of veneration in many cultures. It has been a central subject for astronomical research since antiquity.']"
      ]
     },
     "execution_count": 37,
     "metadata": {},
     "output_type": "execute_result"
    }
   ],
   "source": [
    "sentences = context.split('\\n')\n",
    "sentences"
   ]
  },
  {
   "cell_type": "code",
   "execution_count": 38,
   "metadata": {},
   "outputs": [
    {
     "data": {
      "text/plain": [
       "[['The Solar System is the gravitationally bound system of the Sun and the objects that orbit it. It formed about 4.6 billion years ago when a dense region of a molecular cloud collapsed, forming the Sun and a protoplanetary disc. The Sun is a typical star that maintains a balanced equilibrium by the fusion of hydrogen into helium at its core, releasing this energy from its outer photosphere. Astronomers classify it as a G-type main-sequence star.',\n",
       "  \"The largest objects that orbit the Sun are the eight planets. In order from the Sun, they are four terrestrial planets (Mercury, Venus, Earth and Mars); two gas giants (Jupiter and Saturn); and two ice giants (Uranus and Neptune). All terrestrial planets have solid surfaces. Inversely, all giant planets do not have a definite surface, as they are mainly composed of gases and liquids. Over 99.86% of the Solar System's mass is in the Sun and nearly 90% of the remaining mass is in Jupiter and Saturn.\",\n",
       "  \"There is a strong consensus among astronomers that the Solar System has at least nine dwarf planets: Ceres, Orcus, Pluto, Haumea, Quaoar, Makemake, Gonggong, Eris, and Sedna. There are a vast number of small Solar System bodies, such as asteroids, comets, centaurs, meteoroids, and interplanetary dust clouds. Some of these bodies are in the asteroid belt (between Mars's and Jupiter's orbit) and the Kuiper belt (just outside Neptune's orbit). Six planets, seven dwarf planets, and other bodies have orbiting natural satellites, which are commonly called 'moons'.\"],\n",
       " [\"There is a strong consensus among astronomers that the Solar System has at least nine dwarf planets: Ceres, Orcus, Pluto, Haumea, Quaoar, Makemake, Gonggong, Eris, and Sedna. There are a vast number of small Solar System bodies, such as asteroids, comets, centaurs, meteoroids, and interplanetary dust clouds. Some of these bodies are in the asteroid belt (between Mars's and Jupiter's orbit) and the Kuiper belt (just outside Neptune's orbit). Six planets, seven dwarf planets, and other bodies have orbiting natural satellites, which are commonly called 'moons'.\",\n",
       "  \"The Solar System is constantly flooded by the Sun's charged particles, the solar wind, forming the heliosphere. Around 75–90 astronomical units from the Sun, the solar wind is halted, resulting in the heliopause. This is the boundary of the Solar System to interstellar space. The outermost region of the Solar System is the theorized Oort cloud, the source for long-period comets, extending to a radius of 2,000–200,000 AU. The closest star to the Solar System, Proxima Centauri, is 4.25 light-years (269,000 AU) away. Both stars belong to the Milky Way galaxy.\",\n",
       "  'The Sun is the star at the center of the Solar System. It is a massive, nearly perfect sphere of hot plasma, heated to incandescence by nuclear fusion reactions in its core, radiating the energy from its surface mainly as visible light and infrared radiation with 10% at ultraviolet energies. It is by far the most important source of energy for life on Earth. The Sun has been an object of veneration in many cultures. It has been a central subject for astronomical research since antiquity.'],\n",
       " ['The Sun is the star at the center of the Solar System. It is a massive, nearly perfect sphere of hot plasma, heated to incandescence by nuclear fusion reactions in its core, radiating the energy from its surface mainly as visible light and infrared radiation with 10% at ultraviolet energies. It is by far the most important source of energy for life on Earth. The Sun has been an object of veneration in many cultures. It has been a central subject for astronomical research since antiquity.']]"
      ]
     },
     "execution_count": 38,
     "metadata": {},
     "output_type": "execute_result"
    }
   ],
   "source": [
    "chunked_sentences = chunk_sentences(sentences, chunk_size=3, stride=1)\n",
    "chunked_sentences"
   ]
  },
  {
   "cell_type": "code",
   "execution_count": 41,
   "metadata": {},
   "outputs": [],
   "source": [
    "questions = ['What is the Solar System?',\n",
    "             'What is the Sun?',\n",
    "             'Where is the Sun located in the Solar System?',\n",
    "             'Is Pluto a planet?']"
   ]
  },
  {
   "cell_type": "code",
   "execution_count": 42,
   "metadata": {},
   "outputs": [
    {
     "name": "stdout",
     "output_type": "stream",
     "text": [
      "question: What is the Solar System?\n",
      "answer: the gravitationally bound system of the Sun\n",
      "confidence: 0.8730259537696838\n",
      "\n",
      "question: What is the Sun?\n",
      "answer: a typical star that maintains a balanced equilibrium by the fusion of hydrogen into helium at its core\n",
      "confidence: 0.9114236831665039\n",
      "\n",
      "question: Where is the Sun located in the Solar System?\n",
      "answer: gravitationally bound system\n",
      "confidence: 0.547218918800354\n",
      "\n",
      "question: Is Pluto a planet?\n",
      "answer: no answer found\n",
      "confidence: 0.6859089136123657\n",
      "\n"
     ]
    }
   ],
   "source": [
    "answers = {}\n",
    "\n",
    "for chunk in chunked_sentences:\n",
    "  sub_context = '\\n'.join(chunk)\n",
    "  for question in questions:\n",
    "    answer, score = predict_answer(sub_context, question)\n",
    "\n",
    "    if answer:\n",
    "      if question not in answers:\n",
    "        answers[question] = (answer, score)\n",
    "\n",
    "    else:\n",
    "      if score > answers[question][1]:\n",
    "        answers[question] = (answer, score)\n",
    "\n",
    "for question, (answer, confidence) in answers.items():\n",
    "  print(f'question: {question}')\n",
    "  print(f'answer: {answer}')\n",
    "  print(f'confidence: {confidence}')\n",
    "  print()"
   ]
  }
 ],
 "metadata": {
  "kernelspec": {
   "display_name": "venv",
   "language": "python",
   "name": "python3"
  },
  "language_info": {
   "codemirror_mode": {
    "name": "ipython",
    "version": 3
   },
   "file_extension": ".py",
   "mimetype": "text/x-python",
   "name": "python",
   "nbconvert_exporter": "python",
   "pygments_lexer": "ipython3",
   "version": "3.9.6"
  }
 },
 "nbformat": 4,
 "nbformat_minor": 2
}
